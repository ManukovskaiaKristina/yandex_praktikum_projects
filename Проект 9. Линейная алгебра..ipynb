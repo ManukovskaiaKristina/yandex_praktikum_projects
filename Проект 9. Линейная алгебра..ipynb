{
 "cells": [
  {
   "cell_type": "markdown",
   "metadata": {},
   "source": [
    "В данном проекте нужно было защитить данные клиентов страховой компании, т.е. разработать такой метод преобразования данных, чтобы по ним было сложно восстановить персональную информацию. При этом качество моделей машинного обучения не должно ухудшиться.\n"
   ]
  },
  {
   "cell_type": "markdown",
   "metadata": {},
   "source": [
    "## 1. Загрузка данных"
   ]
  },
  {
   "cell_type": "code",
   "execution_count": 36,
   "metadata": {},
   "outputs": [],
   "source": [
    "import pandas as pd\n",
    "import numpy as np\n",
    "import seaborn as sns\n",
    "from sklearn.model_selection import train_test_split\n",
    "from sklearn.metrics import r2_score\n",
    "from numpy import linalg as LA\n",
    "from sklearn.linear_model import LinearRegression\n",
    "clients = pd.read_csv('/datasets/insurance.csv')\n"
   ]
  },
  {
   "cell_type": "code",
   "execution_count": 37,
   "metadata": {},
   "outputs": [
    {
     "name": "stdout",
     "output_type": "stream",
     "text": [
      "<class 'pandas.core.frame.DataFrame'>\n",
      "RangeIndex: 5000 entries, 0 to 4999\n",
      "Data columns (total 5 columns):\n",
      "Пол                  5000 non-null int64\n",
      "Возраст              5000 non-null float64\n",
      "Зарплата             5000 non-null float64\n",
      "Члены семьи          5000 non-null int64\n",
      "Страховые выплаты    5000 non-null int64\n",
      "dtypes: float64(2), int64(3)\n",
      "memory usage: 195.4 KB\n"
     ]
    }
   ],
   "source": [
    "clients.info()"
   ]
  },
  {
   "cell_type": "code",
   "execution_count": 24,
   "metadata": {},
   "outputs": [
    {
     "data": {
      "text/plain": [
       "Пол                  0\n",
       "Возраст              0\n",
       "Зарплата             0\n",
       "Члены семьи          0\n",
       "Страховые выплаты    0\n",
       "dtype: int64"
      ]
     },
     "execution_count": 24,
     "metadata": {},
     "output_type": "execute_result"
    }
   ],
   "source": [
    "clients.isna().sum()"
   ]
  },
  {
   "cell_type": "code",
   "execution_count": 25,
   "metadata": {},
   "outputs": [],
   "source": [
    "clients['Зарплата'] = clients['Зарплата'].astype('int')\n",
    "clients['Возраст'] = clients['Возраст'].astype('int')"
   ]
  },
  {
   "cell_type": "code",
   "execution_count": 26,
   "metadata": {},
   "outputs": [
    {
     "data": {
      "text/plain": [
       "<matplotlib.axes._subplots.AxesSubplot at 0x7f8f3a9ff190>"
      ]
     },
     "execution_count": 26,
     "metadata": {},
     "output_type": "execute_result"
    },
    {
     "data": {
      "image/png": "[encoded data removed]",
      "text/plain": [
       "<Figure size 432x288 with 1 Axes>"
      ]
     },
     "metadata": {
      "needs_background": "light"
     },
     "output_type": "display_data"
    }
   ],
   "source": [
    "sns.distplot(clients['Страховые выплаты'])"
   ]
  },
  {
   "cell_type": "markdown",
   "metadata": {},
   "source": [
    "Выплат производится очень мало. В целом, ничего удивительного, это же страховая компания."
   ]
  },
  {
   "cell_type": "markdown",
   "metadata": {},
   "source": [
    "## 2. Умножение матриц"
   ]
  },
  {
   "cell_type": "markdown",
   "metadata": {},
   "source": [
    "Обозначения:\n",
    "\n",
    "- $X$ — матрица признаков (нулевой столбец состоит из единиц)\n",
    "\n",
    "- $y$ — вектор целевого признака\n",
    "\n",
    "- $P$ — матрица, на которую умножаются признаки\n",
    "\n",
    "- $w$ — вектор весов линейной регрессии (нулевой элемент равен сдвигу)"
   ]
  },
  {
   "cell_type": "markdown",
   "metadata": {},
   "source": [
    "Предсказания:\n",
    "\n",
    "$$\n",
    "a = Xw\n",
    "$$\n",
    "\n",
    "Задача обучения:\n",
    "\n",
    "$$\n",
    "w = \\arg\\min_w MSE(Xw, y)\n",
    "$$\n",
    "\n",
    "Формула обучения:\n",
    "\n",
    "$$\n",
    "w = (X^T X)^{-1} X^T y\n",
    "$$"
   ]
  },
  {
   "cell_type": "markdown",
   "metadata": {},
   "source": [
    "**Ответ:** При умножении матрицы признаков на обратимую матрицу, качество линейной регресии не изменится.\n",
    "\n",
    "**Обоснование:** \n",
    "\n",
    "Допустим, что \n",
    "\n",
    "$X^T X$ - это квадратная обратимая матрица.\n",
    "\n",
    "\n",
    "$Z$ - обратимая по определению\n",
    "\n",
    "\n",
    "$(AB)^T = B^T A^T$\n",
    "\n",
    "$(AB)^{-1} = B^{-1}A^{-1} $\n",
    "\n",
    "\n",
    "$AA^{-1} = A^{-1} A = E$ - руководствуемся этим тождеством при преобразовании выражения a'\n",
    "\n",
    "                        \n",
    "\n",
    "Подставим $XZ$ вместо $X$ , так как нам нужно умножить матрицу $X (M, N)$ на обратимую матрицу $Z (N, M)$:\n",
    "\n",
    "\n",
    "\n",
    "$$\n",
    "w' = ((XZ)^T XZ)^{-1} (XZ)^T y\n",
    "$$\n",
    "\n",
    "\n",
    "$$\n",
    "a' = XZ((XZ)^T XZ)^{-1} (XZ)^T y = XZ(X^T Z^T XZ)^{-1} X^T Z^T y = XZ(X^T Z^T XZ)^{-1} X^T Z^T y = XZZ^{-1}(X^TX)^{-1} Z^TX^T y = XE(X^TX)^{-1} EX^T y = X(X^TX)^{-1} X^T y = Xw\n",
    "$$\n",
    "\n",
    "Так как $(X^TX)^{-1} X^T y = w$, то тогда выражения равны.\n",
    "В итоге получаем, что $a' = a$\n"
   ]
  },
  {
   "cell_type": "markdown",
   "metadata": {},
   "source": [
    "## 3. Алгоритм преобразования"
   ]
  },
  {
   "cell_type": "markdown",
   "metadata": {},
   "source": [
    "**Алгоритм**\n",
    "\n",
    "Запись в переменные признаков и целевого признака\n",
    "\n",
    "Создание рандомной обратной матрицы\n",
    "\n",
    "Обучение модели без преобразования\n",
    "\n",
    "Получение метрики R2 на модели без преобразования\n",
    "\n",
    "Умножение обратной матрицы на матрицу признаков\n",
    "\n",
    "Обучение модели на преобразованых данных\n",
    "\n",
    "Получение мерики R2 на преобразованых данных\n",
    "\n",
    "Сравнение метрик"
   ]
  },
  {
   "cell_type": "markdown",
   "metadata": {},
   "source": [
    "**Обоснование**\n",
    "\n",
    "Мы умножим наши признаки на квадратную невырожденную матрицу и сравним качество линейной регресии на двух матрицах: умноженной на квадратную невырожденную матрицу и не умноженой на неё."
   ]
  },
  {
   "cell_type": "markdown",
   "metadata": {},
   "source": [
    "## 4. Проверка алгоритма"
   ]
  },
  {
   "cell_type": "code",
   "execution_count": 33,
   "metadata": {},
   "outputs": [],
   "source": [
    "features = clients.drop('Страховые выплаты', axis=1).values\n",
    "target = clients['Страховые выплаты'].values\n"
   ]
  },
  {
   "cell_type": "markdown",
   "metadata": {},
   "source": [
    "Создадим рандомный квадратный массив 4х4:"
   ]
  },
  {
   "cell_type": "code",
   "execution_count": 34,
   "metadata": {},
   "outputs": [
    {
     "data": {
      "text/plain": [
       "array([[-0.52053035,  0.21705965, -0.98232508, -0.9094881 ],\n",
       "       [-0.63529757,  0.56144283, -0.93882151, -0.90134747],\n",
       "       [ 1.59404838,  0.80531243, -1.02148644,  0.60767713],\n",
       "       [-1.18649457,  1.67722103,  0.43638958, -0.39975641]])"
      ]
     },
     "execution_count": 34,
     "metadata": {},
     "output_type": "execute_result"
    }
   ],
   "source": [
    "matrix_Z =np.random.normal(size = (4,4)) \n",
    "matrix_Z"
   ]
  },
  {
   "cell_type": "markdown",
   "metadata": {},
   "source": [
    "Проверяем обратимость марицы:"
   ]
  },
  {
   "cell_type": "code",
   "execution_count": 31,
   "metadata": {},
   "outputs": [
    {
     "data": {
      "text/plain": [
       "array([[-0.46509008, -0.1809767 ,  0.0560757 ,  0.17947666],\n",
       "       [ 0.10716285, -1.28581845, -0.14645813, -1.16293672],\n",
       "       [-0.24850456, -1.60001674,  0.04205989, -0.23579654],\n",
       "       [ 0.31056158,  1.0934054 ,  0.55270692,  0.48489712]])"
      ]
     },
     "execution_count": 31,
     "metadata": {},
     "output_type": "execute_result"
    }
   ],
   "source": [
    "matrix_Z = LA.inv(matrixZ)\n",
    "matrix_Z"
   ]
  },
  {
   "cell_type": "code",
   "execution_count": 35,
   "metadata": {},
   "outputs": [
    {
     "name": "stdout",
     "output_type": "stream",
     "text": [
      "Метрика качества линейной регрессии R2 на исходных признаках: 0.42494550308169177\n",
      "Метрика качества линейной регрессии R2 на преобразованных признаках: 0.42494550308159507\n"
     ]
    }
   ],
   "source": [
    "model = LinearRegression()\n",
    "model.fit(features, target)\n",
    "predictions = model.predict(features)\n",
    "print('Метрика качества линейной регрессии R2 на исходных признаках:',r2_score(target, predictions))\n",
    "\n",
    "matrix_new = features @ matrix_Z\n",
    "model.fit(matrix_new, target)\n",
    "predictions = model.predict(matrix_new)\n",
    "print('Метрика качества линейной регрессии R2 на преобразованных признаках:',r2_score(target, predictions))"
   ]
  },
  {
   "cell_type": "markdown",
   "metadata": {},
   "source": [
    "Качество линейной регрессии не изменилось, метрика R2 сильно не меняет совего значения, значит можно сделать вывод,что алгоритм преобразования данных работает правильно."
   ]
  }
 ],
 "metadata": {
  "kernelspec": {
   "display_name": "Python 3",
   "language": "python",
   "name": "python3"
  },
  "language_info": {
   "codemirror_mode": {
    "name": "ipython",
    "version": 3
   },
   "file_extension": ".py",
   "mimetype": "text/x-python",
   "name": "python",
   "nbconvert_exporter": "python",
   "pygments_lexer": "ipython3",
   "version": "3.7.6"
  }
 },
 "nbformat": 4,
 "nbformat_minor": 2
}

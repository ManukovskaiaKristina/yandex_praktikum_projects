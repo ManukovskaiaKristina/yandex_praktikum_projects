{
 "cells": [
  {
   "cell_type": "markdown",
   "metadata": {},
   "source": [
    "## Описание проекта\n",
    "\n",
    "Компания «Чётенькое такси» собрала исторические данные о заказах такси в аэропортах. Чтобы привлекать больше водителей в период пиковой нагрузки, нужно спрогнозировать количество заказов такси на следующий час. Требуется построить модель для такого предсказания.\n",
    "\n",
    "Значение метрики *RMSE* на тестовой выборке должно быть не больше 48.\n",
    "\n",
    "\n",
    "### Описание данных\n",
    "\n",
    "Данные лежат в файле `taxi.csv`. Количество заказов находится в столбце '*num_orders*'."
   ]
  },
  {
   "cell_type": "markdown",
   "metadata": {},
   "source": [
    "# 1. Подготовка"
   ]
  },
  {
   "cell_type": "code",
   "execution_count": 1,
   "metadata": {},
   "outputs": [
    {
     "name": "stdout",
     "output_type": "stream",
     "text": [
      "<class 'pandas.core.frame.DataFrame'>\n",
      "DatetimeIndex: 26496 entries, 2018-03-01 00:00:00 to 2018-08-31 23:50:00\n",
      "Data columns (total 1 columns):\n",
      "num_orders    26496 non-null int64\n",
      "dtypes: int64(1)\n",
      "memory usage: 414.0 KB\n"
     ]
    },
    {
     "data": {
      "text/html": [
       "<div>\n",
       "<style scoped>\n",
       "    .dataframe tbody tr th:only-of-type {\n",
       "        vertical-align: middle;\n",
       "    }\n",
       "\n",
       "    .dataframe tbody tr th {\n",
       "        vertical-align: top;\n",
       "    }\n",
       "\n",
       "    .dataframe thead th {\n",
       "        text-align: right;\n",
       "    }\n",
       "</style>\n",
       "<table border=\"1\" class=\"dataframe\">\n",
       "  <thead>\n",
       "    <tr style=\"text-align: right;\">\n",
       "      <th></th>\n",
       "      <th>num_orders</th>\n",
       "    </tr>\n",
       "    <tr>\n",
       "      <th>datetime</th>\n",
       "      <th></th>\n",
       "    </tr>\n",
       "  </thead>\n",
       "  <tbody>\n",
       "    <tr>\n",
       "      <td>2018-03-01 00:00:00</td>\n",
       "      <td>9</td>\n",
       "    </tr>\n",
       "    <tr>\n",
       "      <td>2018-03-01 00:10:00</td>\n",
       "      <td>14</td>\n",
       "    </tr>\n",
       "    <tr>\n",
       "      <td>2018-03-01 00:20:00</td>\n",
       "      <td>28</td>\n",
       "    </tr>\n",
       "    <tr>\n",
       "      <td>2018-03-01 00:30:00</td>\n",
       "      <td>20</td>\n",
       "    </tr>\n",
       "    <tr>\n",
       "      <td>2018-03-01 00:40:00</td>\n",
       "      <td>32</td>\n",
       "    </tr>\n",
       "    <tr>\n",
       "      <td>2018-03-01 00:50:00</td>\n",
       "      <td>21</td>\n",
       "    </tr>\n",
       "    <tr>\n",
       "      <td>2018-03-01 01:00:00</td>\n",
       "      <td>7</td>\n",
       "    </tr>\n",
       "    <tr>\n",
       "      <td>2018-03-01 01:10:00</td>\n",
       "      <td>5</td>\n",
       "    </tr>\n",
       "    <tr>\n",
       "      <td>2018-03-01 01:20:00</td>\n",
       "      <td>17</td>\n",
       "    </tr>\n",
       "    <tr>\n",
       "      <td>2018-03-01 01:30:00</td>\n",
       "      <td>12</td>\n",
       "    </tr>\n",
       "  </tbody>\n",
       "</table>\n",
       "</div>"
      ],
      "text/plain": [
       "                     num_orders\n",
       "datetime                       \n",
       "2018-03-01 00:00:00           9\n",
       "2018-03-01 00:10:00          14\n",
       "2018-03-01 00:20:00          28\n",
       "2018-03-01 00:30:00          20\n",
       "2018-03-01 00:40:00          32\n",
       "2018-03-01 00:50:00          21\n",
       "2018-03-01 01:00:00           7\n",
       "2018-03-01 01:10:00           5\n",
       "2018-03-01 01:20:00          17\n",
       "2018-03-01 01:30:00          12"
      ]
     },
     "execution_count": 1,
     "metadata": {},
     "output_type": "execute_result"
    }
   ],
   "source": [
    "import warnings\n",
    "warnings.filterwarnings('ignore')\n",
    "import numpy as np\n",
    "import pandas as pd\n",
    "from sklearn.model_selection import train_test_split\n",
    "from statsmodels.tsa.seasonal import seasonal_decompose\n",
    "import matplotlib.pyplot as plt\n",
    "\n",
    "from sklearn.model_selection import GridSearchCV, cross_val_score\n",
    "from sklearn.model_selection import KFold\n",
    "from sklearn.model_selection import GridSearchCV\n",
    "from sklearn import linear_model\n",
    "import lightgbm as lgb\n",
    "import lightgbm as lgm\n",
    "from sklearn.linear_model import Ridge\n",
    "from sklearn.linear_model import LinearRegression\n",
    "from catboost import CatBoostRegressor\n",
    "from sklearn.metrics import mean_squared_error\n",
    "\n",
    "df = pd.read_csv('/datasets/taxi.csv', index_col=[0], parse_dates=[0])\n",
    "\n",
    "df.info()\n",
    "df.head(10)"
   ]
  },
  {
   "cell_type": "code",
   "execution_count": 2,
   "metadata": {},
   "outputs": [
    {
     "name": "stdout",
     "output_type": "stream",
     "text": [
      "True\n"
     ]
    }
   ],
   "source": [
    "print(df.index.is_monotonic)"
   ]
  },
  {
   "cell_type": "code",
   "execution_count": 3,
   "metadata": {},
   "outputs": [
    {
     "data": {
      "text/html": [
       "<div>\n",
       "<style scoped>\n",
       "    .dataframe tbody tr th:only-of-type {\n",
       "        vertical-align: middle;\n",
       "    }\n",
       "\n",
       "    .dataframe tbody tr th {\n",
       "        vertical-align: top;\n",
       "    }\n",
       "\n",
       "    .dataframe thead th {\n",
       "        text-align: right;\n",
       "    }\n",
       "</style>\n",
       "<table border=\"1\" class=\"dataframe\">\n",
       "  <thead>\n",
       "    <tr style=\"text-align: right;\">\n",
       "      <th></th>\n",
       "      <th>num_orders</th>\n",
       "    </tr>\n",
       "    <tr>\n",
       "      <th>datetime</th>\n",
       "      <th></th>\n",
       "    </tr>\n",
       "  </thead>\n",
       "  <tbody>\n",
       "    <tr>\n",
       "      <td>2018-03-01 00:00:00</td>\n",
       "      <td>124</td>\n",
       "    </tr>\n",
       "    <tr>\n",
       "      <td>2018-03-01 01:00:00</td>\n",
       "      <td>85</td>\n",
       "    </tr>\n",
       "    <tr>\n",
       "      <td>2018-03-01 02:00:00</td>\n",
       "      <td>71</td>\n",
       "    </tr>\n",
       "    <tr>\n",
       "      <td>2018-03-01 03:00:00</td>\n",
       "      <td>66</td>\n",
       "    </tr>\n",
       "    <tr>\n",
       "      <td>2018-03-01 04:00:00</td>\n",
       "      <td>43</td>\n",
       "    </tr>\n",
       "  </tbody>\n",
       "</table>\n",
       "</div>"
      ],
      "text/plain": [
       "                     num_orders\n",
       "datetime                       \n",
       "2018-03-01 00:00:00         124\n",
       "2018-03-01 01:00:00          85\n",
       "2018-03-01 02:00:00          71\n",
       "2018-03-01 03:00:00          66\n",
       "2018-03-01 04:00:00          43"
      ]
     },
     "execution_count": 3,
     "metadata": {},
     "output_type": "execute_result"
    }
   ],
   "source": [
    "df = df.resample('1H').sum()\n",
    "df.head()"
   ]
  },
  {
   "cell_type": "code",
   "execution_count": 4,
   "metadata": {},
   "outputs": [
    {
     "name": "stdout",
     "output_type": "stream",
     "text": [
      "<class 'pandas.core.frame.DataFrame'>\n",
      "DatetimeIndex: 4416 entries, 2018-03-01 00:00:00 to 2018-08-31 23:00:00\n",
      "Freq: H\n",
      "Data columns (total 1 columns):\n",
      "num_orders    4416 non-null int64\n",
      "dtypes: int64(1)\n",
      "memory usage: 69.0 KB\n"
     ]
    }
   ],
   "source": [
    "df.info()"
   ]
  },
  {
   "cell_type": "markdown",
   "metadata": {},
   "source": [
    "# 2. Анализ"
   ]
  },
  {
   "cell_type": "code",
   "execution_count": 5,
   "metadata": {},
   "outputs": [
    {
     "data": {
      "image/png": "[encoded data removed]",
      "text/plain": [
       "<Figure size 720x1152 with 3 Axes>"
      ]
     },
     "metadata": {
      "needs_background": "light"
     },
     "output_type": "display_data"
    }
   ],
   "source": [
    "decompose = seasonal_decompose(df, freq=24*7)\n",
    "\n",
    "plt.figure(figsize=(10, 16))\n",
    "plt.subplot(311)\n",
    "\n",
    "decompose.trend.plot(ax=plt.gca())\n",
    "plt.title('Trend')\n",
    "plt.subplot(312)\n",
    "\n",
    "decompose.seasonal['2018-06-13':'2018-06-14'].plot(ax=plt.gca())\n",
    "plt.title('Seasonality')\n",
    "plt.subplot(313)\n",
    "\n",
    "decompose.resid.plot(ax=plt.gca())\n",
    "plt.title('Residuals')\n",
    "\n",
    "plt.tight_layout()"
   ]
  },
  {
   "cell_type": "code",
   "execution_count": 6,
   "metadata": {},
   "outputs": [
    {
     "data": {
      "text/plain": [
       "<matplotlib.axes._subplots.AxesSubplot at 0x7f73b3519450>"
      ]
     },
     "execution_count": 6,
     "metadata": {},
     "output_type": "execute_result"
    },
    {
     "data": {
      "image/png": "[encoded data removed]",
      "text/plain": [
       "<Figure size 432x288 with 1 Axes>"
      ]
     },
     "metadata": {
      "needs_background": "light"
     },
     "output_type": "display_data"
    }
   ],
   "source": [
    "df['rolling_mean'] = df.rolling(10).mean()\n",
    "df.plot()"
   ]
  },
  {
   "cell_type": "markdown",
   "metadata": {},
   "source": [
    "Из декомпозиции можно отметить, что тренд указывает на увеличение заказов. Сезоность указывает на высокий спрос на такси в ночное время, потому что в это время не работает общественный транспорт."
   ]
  },
  {
   "cell_type": "markdown",
   "metadata": {},
   "source": [
    "Можно сказать, что стохастический процесс нестационарный"
   ]
  },
  {
   "cell_type": "markdown",
   "metadata": {},
   "source": [
    "# 3. Обучение"
   ]
  },
  {
   "cell_type": "code",
   "execution_count": 119,
   "metadata": {},
   "outputs": [
    {
     "data": {
      "text/plain": [
       "(3057, 506)"
      ]
     },
     "execution_count": 119,
     "metadata": {},
     "output_type": "execute_result"
    }
   ],
   "source": [
    "def make_features(df, max_lag, rolling_mean_size):\n",
    "    df['year'] = df.index.year\n",
    "    df['month'] = df.index.month\n",
    "    df['day'] = df.index.day\n",
    "    df['dayofweek'] = df.index.dayofweek\n",
    "    \n",
    "    for lag in range(1, max_lag + 1):\n",
    "        df['lag_{}'.format(lag)] = df['num_orders'].shift(lag)\n",
    "\n",
    "    df['rolling_mean'] = df['num_orders'].shift().rolling(rolling_mean_size).mean()\n",
    "\n",
    "make_features(df, 500, 300)\n",
    "df.shape"
   ]
  },
  {
   "cell_type": "code",
   "execution_count": 120,
   "metadata": {},
   "outputs": [
    {
     "data": {
      "text/html": [
       "<div>\n",
       "<style scoped>\n",
       "    .dataframe tbody tr th:only-of-type {\n",
       "        vertical-align: middle;\n",
       "    }\n",
       "\n",
       "    .dataframe tbody tr th {\n",
       "        vertical-align: top;\n",
       "    }\n",
       "\n",
       "    .dataframe thead th {\n",
       "        text-align: right;\n",
       "    }\n",
       "</style>\n",
       "<table border=\"1\" class=\"dataframe\">\n",
       "  <thead>\n",
       "    <tr style=\"text-align: right;\">\n",
       "      <th></th>\n",
       "      <th>num_orders</th>\n",
       "      <th>rolling_mean</th>\n",
       "      <th>year</th>\n",
       "      <th>month</th>\n",
       "      <th>day</th>\n",
       "      <th>dayofweek</th>\n",
       "      <th>lag_1</th>\n",
       "      <th>lag_2</th>\n",
       "      <th>lag_3</th>\n",
       "      <th>lag_4</th>\n",
       "      <th>...</th>\n",
       "      <th>lag_491</th>\n",
       "      <th>lag_492</th>\n",
       "      <th>lag_493</th>\n",
       "      <th>lag_494</th>\n",
       "      <th>lag_495</th>\n",
       "      <th>lag_496</th>\n",
       "      <th>lag_497</th>\n",
       "      <th>lag_498</th>\n",
       "      <th>lag_499</th>\n",
       "      <th>lag_500</th>\n",
       "    </tr>\n",
       "    <tr>\n",
       "      <th>datetime</th>\n",
       "      <th></th>\n",
       "      <th></th>\n",
       "      <th></th>\n",
       "      <th></th>\n",
       "      <th></th>\n",
       "      <th></th>\n",
       "      <th></th>\n",
       "      <th></th>\n",
       "      <th></th>\n",
       "      <th></th>\n",
       "      <th></th>\n",
       "      <th></th>\n",
       "      <th></th>\n",
       "      <th></th>\n",
       "      <th></th>\n",
       "      <th></th>\n",
       "      <th></th>\n",
       "      <th></th>\n",
       "      <th></th>\n",
       "      <th></th>\n",
       "      <th></th>\n",
       "    </tr>\n",
       "  </thead>\n",
       "  <tbody>\n",
       "    <tr>\n",
       "      <td>2018-04-26 15:00:00</td>\n",
       "      <td>59</td>\n",
       "      <td>NaN</td>\n",
       "      <td>2018</td>\n",
       "      <td>4</td>\n",
       "      <td>26</td>\n",
       "      <td>3</td>\n",
       "      <td>NaN</td>\n",
       "      <td>NaN</td>\n",
       "      <td>NaN</td>\n",
       "      <td>NaN</td>\n",
       "      <td>...</td>\n",
       "      <td>NaN</td>\n",
       "      <td>NaN</td>\n",
       "      <td>NaN</td>\n",
       "      <td>NaN</td>\n",
       "      <td>NaN</td>\n",
       "      <td>NaN</td>\n",
       "      <td>NaN</td>\n",
       "      <td>NaN</td>\n",
       "      <td>NaN</td>\n",
       "      <td>NaN</td>\n",
       "    </tr>\n",
       "    <tr>\n",
       "      <td>2018-04-26 16:00:00</td>\n",
       "      <td>115</td>\n",
       "      <td>NaN</td>\n",
       "      <td>2018</td>\n",
       "      <td>4</td>\n",
       "      <td>26</td>\n",
       "      <td>3</td>\n",
       "      <td>59.0</td>\n",
       "      <td>NaN</td>\n",
       "      <td>NaN</td>\n",
       "      <td>NaN</td>\n",
       "      <td>...</td>\n",
       "      <td>NaN</td>\n",
       "      <td>NaN</td>\n",
       "      <td>NaN</td>\n",
       "      <td>NaN</td>\n",
       "      <td>NaN</td>\n",
       "      <td>NaN</td>\n",
       "      <td>NaN</td>\n",
       "      <td>NaN</td>\n",
       "      <td>NaN</td>\n",
       "      <td>NaN</td>\n",
       "    </tr>\n",
       "    <tr>\n",
       "      <td>2018-04-26 17:00:00</td>\n",
       "      <td>59</td>\n",
       "      <td>NaN</td>\n",
       "      <td>2018</td>\n",
       "      <td>4</td>\n",
       "      <td>26</td>\n",
       "      <td>3</td>\n",
       "      <td>115.0</td>\n",
       "      <td>59.0</td>\n",
       "      <td>NaN</td>\n",
       "      <td>NaN</td>\n",
       "      <td>...</td>\n",
       "      <td>NaN</td>\n",
       "      <td>NaN</td>\n",
       "      <td>NaN</td>\n",
       "      <td>NaN</td>\n",
       "      <td>NaN</td>\n",
       "      <td>NaN</td>\n",
       "      <td>NaN</td>\n",
       "      <td>NaN</td>\n",
       "      <td>NaN</td>\n",
       "      <td>NaN</td>\n",
       "    </tr>\n",
       "    <tr>\n",
       "      <td>2018-04-26 18:00:00</td>\n",
       "      <td>57</td>\n",
       "      <td>NaN</td>\n",
       "      <td>2018</td>\n",
       "      <td>4</td>\n",
       "      <td>26</td>\n",
       "      <td>3</td>\n",
       "      <td>59.0</td>\n",
       "      <td>115.0</td>\n",
       "      <td>59.0</td>\n",
       "      <td>NaN</td>\n",
       "      <td>...</td>\n",
       "      <td>NaN</td>\n",
       "      <td>NaN</td>\n",
       "      <td>NaN</td>\n",
       "      <td>NaN</td>\n",
       "      <td>NaN</td>\n",
       "      <td>NaN</td>\n",
       "      <td>NaN</td>\n",
       "      <td>NaN</td>\n",
       "      <td>NaN</td>\n",
       "      <td>NaN</td>\n",
       "    </tr>\n",
       "    <tr>\n",
       "      <td>2018-04-26 19:00:00</td>\n",
       "      <td>46</td>\n",
       "      <td>NaN</td>\n",
       "      <td>2018</td>\n",
       "      <td>4</td>\n",
       "      <td>26</td>\n",
       "      <td>3</td>\n",
       "      <td>57.0</td>\n",
       "      <td>59.0</td>\n",
       "      <td>115.0</td>\n",
       "      <td>59.0</td>\n",
       "      <td>...</td>\n",
       "      <td>NaN</td>\n",
       "      <td>NaN</td>\n",
       "      <td>NaN</td>\n",
       "      <td>NaN</td>\n",
       "      <td>NaN</td>\n",
       "      <td>NaN</td>\n",
       "      <td>NaN</td>\n",
       "      <td>NaN</td>\n",
       "      <td>NaN</td>\n",
       "      <td>NaN</td>\n",
       "    </tr>\n",
       "    <tr>\n",
       "      <td>2018-04-26 20:00:00</td>\n",
       "      <td>63</td>\n",
       "      <td>NaN</td>\n",
       "      <td>2018</td>\n",
       "      <td>4</td>\n",
       "      <td>26</td>\n",
       "      <td>3</td>\n",
       "      <td>46.0</td>\n",
       "      <td>57.0</td>\n",
       "      <td>59.0</td>\n",
       "      <td>115.0</td>\n",
       "      <td>...</td>\n",
       "      <td>NaN</td>\n",
       "      <td>NaN</td>\n",
       "      <td>NaN</td>\n",
       "      <td>NaN</td>\n",
       "      <td>NaN</td>\n",
       "      <td>NaN</td>\n",
       "      <td>NaN</td>\n",
       "      <td>NaN</td>\n",
       "      <td>NaN</td>\n",
       "      <td>NaN</td>\n",
       "    </tr>\n",
       "    <tr>\n",
       "      <td>2018-04-26 21:00:00</td>\n",
       "      <td>89</td>\n",
       "      <td>NaN</td>\n",
       "      <td>2018</td>\n",
       "      <td>4</td>\n",
       "      <td>26</td>\n",
       "      <td>3</td>\n",
       "      <td>63.0</td>\n",
       "      <td>46.0</td>\n",
       "      <td>57.0</td>\n",
       "      <td>59.0</td>\n",
       "      <td>...</td>\n",
       "      <td>NaN</td>\n",
       "      <td>NaN</td>\n",
       "      <td>NaN</td>\n",
       "      <td>NaN</td>\n",
       "      <td>NaN</td>\n",
       "      <td>NaN</td>\n",
       "      <td>NaN</td>\n",
       "      <td>NaN</td>\n",
       "      <td>NaN</td>\n",
       "      <td>NaN</td>\n",
       "    </tr>\n",
       "    <tr>\n",
       "      <td>2018-04-26 22:00:00</td>\n",
       "      <td>104</td>\n",
       "      <td>NaN</td>\n",
       "      <td>2018</td>\n",
       "      <td>4</td>\n",
       "      <td>26</td>\n",
       "      <td>3</td>\n",
       "      <td>89.0</td>\n",
       "      <td>63.0</td>\n",
       "      <td>46.0</td>\n",
       "      <td>57.0</td>\n",
       "      <td>...</td>\n",
       "      <td>NaN</td>\n",
       "      <td>NaN</td>\n",
       "      <td>NaN</td>\n",
       "      <td>NaN</td>\n",
       "      <td>NaN</td>\n",
       "      <td>NaN</td>\n",
       "      <td>NaN</td>\n",
       "      <td>NaN</td>\n",
       "      <td>NaN</td>\n",
       "      <td>NaN</td>\n",
       "    </tr>\n",
       "    <tr>\n",
       "      <td>2018-04-26 23:00:00</td>\n",
       "      <td>118</td>\n",
       "      <td>NaN</td>\n",
       "      <td>2018</td>\n",
       "      <td>4</td>\n",
       "      <td>26</td>\n",
       "      <td>3</td>\n",
       "      <td>104.0</td>\n",
       "      <td>89.0</td>\n",
       "      <td>63.0</td>\n",
       "      <td>46.0</td>\n",
       "      <td>...</td>\n",
       "      <td>NaN</td>\n",
       "      <td>NaN</td>\n",
       "      <td>NaN</td>\n",
       "      <td>NaN</td>\n",
       "      <td>NaN</td>\n",
       "      <td>NaN</td>\n",
       "      <td>NaN</td>\n",
       "      <td>NaN</td>\n",
       "      <td>NaN</td>\n",
       "      <td>NaN</td>\n",
       "    </tr>\n",
       "    <tr>\n",
       "      <td>2018-04-27 00:00:00</td>\n",
       "      <td>121</td>\n",
       "      <td>NaN</td>\n",
       "      <td>2018</td>\n",
       "      <td>4</td>\n",
       "      <td>27</td>\n",
       "      <td>4</td>\n",
       "      <td>118.0</td>\n",
       "      <td>104.0</td>\n",
       "      <td>89.0</td>\n",
       "      <td>63.0</td>\n",
       "      <td>...</td>\n",
       "      <td>NaN</td>\n",
       "      <td>NaN</td>\n",
       "      <td>NaN</td>\n",
       "      <td>NaN</td>\n",
       "      <td>NaN</td>\n",
       "      <td>NaN</td>\n",
       "      <td>NaN</td>\n",
       "      <td>NaN</td>\n",
       "      <td>NaN</td>\n",
       "      <td>NaN</td>\n",
       "    </tr>\n",
       "  </tbody>\n",
       "</table>\n",
       "<p>10 rows × 506 columns</p>\n",
       "</div>"
      ],
      "text/plain": [
       "                     num_orders  rolling_mean  year  month  day  dayofweek  \\\n",
       "datetime                                                                     \n",
       "2018-04-26 15:00:00          59           NaN  2018      4   26          3   \n",
       "2018-04-26 16:00:00         115           NaN  2018      4   26          3   \n",
       "2018-04-26 17:00:00          59           NaN  2018      4   26          3   \n",
       "2018-04-26 18:00:00          57           NaN  2018      4   26          3   \n",
       "2018-04-26 19:00:00          46           NaN  2018      4   26          3   \n",
       "2018-04-26 20:00:00          63           NaN  2018      4   26          3   \n",
       "2018-04-26 21:00:00          89           NaN  2018      4   26          3   \n",
       "2018-04-26 22:00:00         104           NaN  2018      4   26          3   \n",
       "2018-04-26 23:00:00         118           NaN  2018      4   26          3   \n",
       "2018-04-27 00:00:00         121           NaN  2018      4   27          4   \n",
       "\n",
       "                     lag_1  lag_2  lag_3  lag_4  ...  lag_491  lag_492  \\\n",
       "datetime                                         ...                     \n",
       "2018-04-26 15:00:00    NaN    NaN    NaN    NaN  ...      NaN      NaN   \n",
       "2018-04-26 16:00:00   59.0    NaN    NaN    NaN  ...      NaN      NaN   \n",
       "2018-04-26 17:00:00  115.0   59.0    NaN    NaN  ...      NaN      NaN   \n",
       "2018-04-26 18:00:00   59.0  115.0   59.0    NaN  ...      NaN      NaN   \n",
       "2018-04-26 19:00:00   57.0   59.0  115.0   59.0  ...      NaN      NaN   \n",
       "2018-04-26 20:00:00   46.0   57.0   59.0  115.0  ...      NaN      NaN   \n",
       "2018-04-26 21:00:00   63.0   46.0   57.0   59.0  ...      NaN      NaN   \n",
       "2018-04-26 22:00:00   89.0   63.0   46.0   57.0  ...      NaN      NaN   \n",
       "2018-04-26 23:00:00  104.0   89.0   63.0   46.0  ...      NaN      NaN   \n",
       "2018-04-27 00:00:00  118.0  104.0   89.0   63.0  ...      NaN      NaN   \n",
       "\n",
       "                     lag_493  lag_494  lag_495  lag_496  lag_497  lag_498  \\\n",
       "datetime                                                                    \n",
       "2018-04-26 15:00:00      NaN      NaN      NaN      NaN      NaN      NaN   \n",
       "2018-04-26 16:00:00      NaN      NaN      NaN      NaN      NaN      NaN   \n",
       "2018-04-26 17:00:00      NaN      NaN      NaN      NaN      NaN      NaN   \n",
       "2018-04-26 18:00:00      NaN      NaN      NaN      NaN      NaN      NaN   \n",
       "2018-04-26 19:00:00      NaN      NaN      NaN      NaN      NaN      NaN   \n",
       "2018-04-26 20:00:00      NaN      NaN      NaN      NaN      NaN      NaN   \n",
       "2018-04-26 21:00:00      NaN      NaN      NaN      NaN      NaN      NaN   \n",
       "2018-04-26 22:00:00      NaN      NaN      NaN      NaN      NaN      NaN   \n",
       "2018-04-26 23:00:00      NaN      NaN      NaN      NaN      NaN      NaN   \n",
       "2018-04-27 00:00:00      NaN      NaN      NaN      NaN      NaN      NaN   \n",
       "\n",
       "                     lag_499  lag_500  \n",
       "datetime                               \n",
       "2018-04-26 15:00:00      NaN      NaN  \n",
       "2018-04-26 16:00:00      NaN      NaN  \n",
       "2018-04-26 17:00:00      NaN      NaN  \n",
       "2018-04-26 18:00:00      NaN      NaN  \n",
       "2018-04-26 19:00:00      NaN      NaN  \n",
       "2018-04-26 20:00:00      NaN      NaN  \n",
       "2018-04-26 21:00:00      NaN      NaN  \n",
       "2018-04-26 22:00:00      NaN      NaN  \n",
       "2018-04-26 23:00:00      NaN      NaN  \n",
       "2018-04-27 00:00:00      NaN      NaN  \n",
       "\n",
       "[10 rows x 506 columns]"
      ]
     },
     "execution_count": 120,
     "metadata": {},
     "output_type": "execute_result"
    }
   ],
   "source": [
    "df.head(10)"
   ]
  },
  {
   "cell_type": "code",
   "execution_count": 121,
   "metadata": {},
   "outputs": [],
   "source": [
    "df = df.dropna()"
   ]
  },
  {
   "cell_type": "code",
   "execution_count": 122,
   "metadata": {},
   "outputs": [
    {
     "data": {
      "text/plain": [
       "(2557, 506)"
      ]
     },
     "execution_count": 122,
     "metadata": {},
     "output_type": "execute_result"
    }
   ],
   "source": [
    "df.shape"
   ]
  },
  {
   "cell_type": "code",
   "execution_count": 123,
   "metadata": {},
   "outputs": [
    {
     "data": {
      "text/html": [
       "<div>\n",
       "<style scoped>\n",
       "    .dataframe tbody tr th:only-of-type {\n",
       "        vertical-align: middle;\n",
       "    }\n",
       "\n",
       "    .dataframe tbody tr th {\n",
       "        vertical-align: top;\n",
       "    }\n",
       "\n",
       "    .dataframe thead th {\n",
       "        text-align: right;\n",
       "    }\n",
       "</style>\n",
       "<table border=\"1\" class=\"dataframe\">\n",
       "  <thead>\n",
       "    <tr style=\"text-align: right;\">\n",
       "      <th></th>\n",
       "      <th>num_orders</th>\n",
       "      <th>rolling_mean</th>\n",
       "      <th>year</th>\n",
       "      <th>month</th>\n",
       "      <th>day</th>\n",
       "      <th>dayofweek</th>\n",
       "      <th>lag_1</th>\n",
       "      <th>lag_2</th>\n",
       "      <th>lag_3</th>\n",
       "      <th>lag_4</th>\n",
       "      <th>...</th>\n",
       "      <th>lag_491</th>\n",
       "      <th>lag_492</th>\n",
       "      <th>lag_493</th>\n",
       "      <th>lag_494</th>\n",
       "      <th>lag_495</th>\n",
       "      <th>lag_496</th>\n",
       "      <th>lag_497</th>\n",
       "      <th>lag_498</th>\n",
       "      <th>lag_499</th>\n",
       "      <th>lag_500</th>\n",
       "    </tr>\n",
       "    <tr>\n",
       "      <th>datetime</th>\n",
       "      <th></th>\n",
       "      <th></th>\n",
       "      <th></th>\n",
       "      <th></th>\n",
       "      <th></th>\n",
       "      <th></th>\n",
       "      <th></th>\n",
       "      <th></th>\n",
       "      <th></th>\n",
       "      <th></th>\n",
       "      <th></th>\n",
       "      <th></th>\n",
       "      <th></th>\n",
       "      <th></th>\n",
       "      <th></th>\n",
       "      <th></th>\n",
       "      <th></th>\n",
       "      <th></th>\n",
       "      <th></th>\n",
       "      <th></th>\n",
       "      <th></th>\n",
       "    </tr>\n",
       "  </thead>\n",
       "  <tbody>\n",
       "    <tr>\n",
       "      <td>2018-05-17 11:00:00</td>\n",
       "      <td>92</td>\n",
       "      <td>69.913333</td>\n",
       "      <td>2018</td>\n",
       "      <td>5</td>\n",
       "      <td>17</td>\n",
       "      <td>3</td>\n",
       "      <td>92.0</td>\n",
       "      <td>91.0</td>\n",
       "      <td>61.0</td>\n",
       "      <td>27.0</td>\n",
       "      <td>...</td>\n",
       "      <td>121.0</td>\n",
       "      <td>118.0</td>\n",
       "      <td>104.0</td>\n",
       "      <td>89.0</td>\n",
       "      <td>63.0</td>\n",
       "      <td>46.0</td>\n",
       "      <td>57.0</td>\n",
       "      <td>59.0</td>\n",
       "      <td>115.0</td>\n",
       "      <td>59.0</td>\n",
       "    </tr>\n",
       "    <tr>\n",
       "      <td>2018-05-17 12:00:00</td>\n",
       "      <td>62</td>\n",
       "      <td>69.920000</td>\n",
       "      <td>2018</td>\n",
       "      <td>5</td>\n",
       "      <td>17</td>\n",
       "      <td>3</td>\n",
       "      <td>92.0</td>\n",
       "      <td>92.0</td>\n",
       "      <td>91.0</td>\n",
       "      <td>61.0</td>\n",
       "      <td>...</td>\n",
       "      <td>54.0</td>\n",
       "      <td>121.0</td>\n",
       "      <td>118.0</td>\n",
       "      <td>104.0</td>\n",
       "      <td>89.0</td>\n",
       "      <td>63.0</td>\n",
       "      <td>46.0</td>\n",
       "      <td>57.0</td>\n",
       "      <td>59.0</td>\n",
       "      <td>115.0</td>\n",
       "    </tr>\n",
       "    <tr>\n",
       "      <td>2018-05-17 13:00:00</td>\n",
       "      <td>63</td>\n",
       "      <td>69.780000</td>\n",
       "      <td>2018</td>\n",
       "      <td>5</td>\n",
       "      <td>17</td>\n",
       "      <td>3</td>\n",
       "      <td>62.0</td>\n",
       "      <td>92.0</td>\n",
       "      <td>92.0</td>\n",
       "      <td>91.0</td>\n",
       "      <td>...</td>\n",
       "      <td>73.0</td>\n",
       "      <td>54.0</td>\n",
       "      <td>121.0</td>\n",
       "      <td>118.0</td>\n",
       "      <td>104.0</td>\n",
       "      <td>89.0</td>\n",
       "      <td>63.0</td>\n",
       "      <td>46.0</td>\n",
       "      <td>57.0</td>\n",
       "      <td>59.0</td>\n",
       "    </tr>\n",
       "    <tr>\n",
       "      <td>2018-05-17 14:00:00</td>\n",
       "      <td>94</td>\n",
       "      <td>69.736667</td>\n",
       "      <td>2018</td>\n",
       "      <td>5</td>\n",
       "      <td>17</td>\n",
       "      <td>3</td>\n",
       "      <td>63.0</td>\n",
       "      <td>62.0</td>\n",
       "      <td>92.0</td>\n",
       "      <td>92.0</td>\n",
       "      <td>...</td>\n",
       "      <td>117.0</td>\n",
       "      <td>73.0</td>\n",
       "      <td>54.0</td>\n",
       "      <td>121.0</td>\n",
       "      <td>118.0</td>\n",
       "      <td>104.0</td>\n",
       "      <td>89.0</td>\n",
       "      <td>63.0</td>\n",
       "      <td>46.0</td>\n",
       "      <td>57.0</td>\n",
       "    </tr>\n",
       "    <tr>\n",
       "      <td>2018-05-17 15:00:00</td>\n",
       "      <td>71</td>\n",
       "      <td>69.800000</td>\n",
       "      <td>2018</td>\n",
       "      <td>5</td>\n",
       "      <td>17</td>\n",
       "      <td>3</td>\n",
       "      <td>94.0</td>\n",
       "      <td>63.0</td>\n",
       "      <td>62.0</td>\n",
       "      <td>92.0</td>\n",
       "      <td>...</td>\n",
       "      <td>59.0</td>\n",
       "      <td>117.0</td>\n",
       "      <td>73.0</td>\n",
       "      <td>54.0</td>\n",
       "      <td>121.0</td>\n",
       "      <td>118.0</td>\n",
       "      <td>104.0</td>\n",
       "      <td>89.0</td>\n",
       "      <td>63.0</td>\n",
       "      <td>46.0</td>\n",
       "    </tr>\n",
       "    <tr>\n",
       "      <td>2018-05-17 16:00:00</td>\n",
       "      <td>115</td>\n",
       "      <td>69.706667</td>\n",
       "      <td>2018</td>\n",
       "      <td>5</td>\n",
       "      <td>17</td>\n",
       "      <td>3</td>\n",
       "      <td>71.0</td>\n",
       "      <td>94.0</td>\n",
       "      <td>63.0</td>\n",
       "      <td>62.0</td>\n",
       "      <td>...</td>\n",
       "      <td>26.0</td>\n",
       "      <td>59.0</td>\n",
       "      <td>117.0</td>\n",
       "      <td>73.0</td>\n",
       "      <td>54.0</td>\n",
       "      <td>121.0</td>\n",
       "      <td>118.0</td>\n",
       "      <td>104.0</td>\n",
       "      <td>89.0</td>\n",
       "      <td>63.0</td>\n",
       "    </tr>\n",
       "    <tr>\n",
       "      <td>2018-05-17 17:00:00</td>\n",
       "      <td>79</td>\n",
       "      <td>69.990000</td>\n",
       "      <td>2018</td>\n",
       "      <td>5</td>\n",
       "      <td>17</td>\n",
       "      <td>3</td>\n",
       "      <td>115.0</td>\n",
       "      <td>71.0</td>\n",
       "      <td>94.0</td>\n",
       "      <td>63.0</td>\n",
       "      <td>...</td>\n",
       "      <td>6.0</td>\n",
       "      <td>26.0</td>\n",
       "      <td>59.0</td>\n",
       "      <td>117.0</td>\n",
       "      <td>73.0</td>\n",
       "      <td>54.0</td>\n",
       "      <td>121.0</td>\n",
       "      <td>118.0</td>\n",
       "      <td>104.0</td>\n",
       "      <td>89.0</td>\n",
       "    </tr>\n",
       "    <tr>\n",
       "      <td>2018-05-17 18:00:00</td>\n",
       "      <td>41</td>\n",
       "      <td>70.193333</td>\n",
       "      <td>2018</td>\n",
       "      <td>5</td>\n",
       "      <td>17</td>\n",
       "      <td>3</td>\n",
       "      <td>79.0</td>\n",
       "      <td>115.0</td>\n",
       "      <td>71.0</td>\n",
       "      <td>94.0</td>\n",
       "      <td>...</td>\n",
       "      <td>21.0</td>\n",
       "      <td>6.0</td>\n",
       "      <td>26.0</td>\n",
       "      <td>59.0</td>\n",
       "      <td>117.0</td>\n",
       "      <td>73.0</td>\n",
       "      <td>54.0</td>\n",
       "      <td>121.0</td>\n",
       "      <td>118.0</td>\n",
       "      <td>104.0</td>\n",
       "    </tr>\n",
       "    <tr>\n",
       "      <td>2018-05-17 19:00:00</td>\n",
       "      <td>73</td>\n",
       "      <td>70.266667</td>\n",
       "      <td>2018</td>\n",
       "      <td>5</td>\n",
       "      <td>17</td>\n",
       "      <td>3</td>\n",
       "      <td>41.0</td>\n",
       "      <td>79.0</td>\n",
       "      <td>115.0</td>\n",
       "      <td>71.0</td>\n",
       "      <td>...</td>\n",
       "      <td>62.0</td>\n",
       "      <td>21.0</td>\n",
       "      <td>6.0</td>\n",
       "      <td>26.0</td>\n",
       "      <td>59.0</td>\n",
       "      <td>117.0</td>\n",
       "      <td>73.0</td>\n",
       "      <td>54.0</td>\n",
       "      <td>121.0</td>\n",
       "      <td>118.0</td>\n",
       "    </tr>\n",
       "    <tr>\n",
       "      <td>2018-05-17 20:00:00</td>\n",
       "      <td>77</td>\n",
       "      <td>70.440000</td>\n",
       "      <td>2018</td>\n",
       "      <td>5</td>\n",
       "      <td>17</td>\n",
       "      <td>3</td>\n",
       "      <td>73.0</td>\n",
       "      <td>41.0</td>\n",
       "      <td>79.0</td>\n",
       "      <td>115.0</td>\n",
       "      <td>...</td>\n",
       "      <td>102.0</td>\n",
       "      <td>62.0</td>\n",
       "      <td>21.0</td>\n",
       "      <td>6.0</td>\n",
       "      <td>26.0</td>\n",
       "      <td>59.0</td>\n",
       "      <td>117.0</td>\n",
       "      <td>73.0</td>\n",
       "      <td>54.0</td>\n",
       "      <td>121.0</td>\n",
       "    </tr>\n",
       "  </tbody>\n",
       "</table>\n",
       "<p>10 rows × 506 columns</p>\n",
       "</div>"
      ],
      "text/plain": [
       "                     num_orders  rolling_mean  year  month  day  dayofweek  \\\n",
       "datetime                                                                     \n",
       "2018-05-17 11:00:00          92     69.913333  2018      5   17          3   \n",
       "2018-05-17 12:00:00          62     69.920000  2018      5   17          3   \n",
       "2018-05-17 13:00:00          63     69.780000  2018      5   17          3   \n",
       "2018-05-17 14:00:00          94     69.736667  2018      5   17          3   \n",
       "2018-05-17 15:00:00          71     69.800000  2018      5   17          3   \n",
       "2018-05-17 16:00:00         115     69.706667  2018      5   17          3   \n",
       "2018-05-17 17:00:00          79     69.990000  2018      5   17          3   \n",
       "2018-05-17 18:00:00          41     70.193333  2018      5   17          3   \n",
       "2018-05-17 19:00:00          73     70.266667  2018      5   17          3   \n",
       "2018-05-17 20:00:00          77     70.440000  2018      5   17          3   \n",
       "\n",
       "                     lag_1  lag_2  lag_3  lag_4  ...  lag_491  lag_492  \\\n",
       "datetime                                         ...                     \n",
       "2018-05-17 11:00:00   92.0   91.0   61.0   27.0  ...    121.0    118.0   \n",
       "2018-05-17 12:00:00   92.0   92.0   91.0   61.0  ...     54.0    121.0   \n",
       "2018-05-17 13:00:00   62.0   92.0   92.0   91.0  ...     73.0     54.0   \n",
       "2018-05-17 14:00:00   63.0   62.0   92.0   92.0  ...    117.0     73.0   \n",
       "2018-05-17 15:00:00   94.0   63.0   62.0   92.0  ...     59.0    117.0   \n",
       "2018-05-17 16:00:00   71.0   94.0   63.0   62.0  ...     26.0     59.0   \n",
       "2018-05-17 17:00:00  115.0   71.0   94.0   63.0  ...      6.0     26.0   \n",
       "2018-05-17 18:00:00   79.0  115.0   71.0   94.0  ...     21.0      6.0   \n",
       "2018-05-17 19:00:00   41.0   79.0  115.0   71.0  ...     62.0     21.0   \n",
       "2018-05-17 20:00:00   73.0   41.0   79.0  115.0  ...    102.0     62.0   \n",
       "\n",
       "                     lag_493  lag_494  lag_495  lag_496  lag_497  lag_498  \\\n",
       "datetime                                                                    \n",
       "2018-05-17 11:00:00    104.0     89.0     63.0     46.0     57.0     59.0   \n",
       "2018-05-17 12:00:00    118.0    104.0     89.0     63.0     46.0     57.0   \n",
       "2018-05-17 13:00:00    121.0    118.0    104.0     89.0     63.0     46.0   \n",
       "2018-05-17 14:00:00     54.0    121.0    118.0    104.0     89.0     63.0   \n",
       "2018-05-17 15:00:00     73.0     54.0    121.0    118.0    104.0     89.0   \n",
       "2018-05-17 16:00:00    117.0     73.0     54.0    121.0    118.0    104.0   \n",
       "2018-05-17 17:00:00     59.0    117.0     73.0     54.0    121.0    118.0   \n",
       "2018-05-17 18:00:00     26.0     59.0    117.0     73.0     54.0    121.0   \n",
       "2018-05-17 19:00:00      6.0     26.0     59.0    117.0     73.0     54.0   \n",
       "2018-05-17 20:00:00     21.0      6.0     26.0     59.0    117.0     73.0   \n",
       "\n",
       "                     lag_499  lag_500  \n",
       "datetime                               \n",
       "2018-05-17 11:00:00    115.0     59.0  \n",
       "2018-05-17 12:00:00     59.0    115.0  \n",
       "2018-05-17 13:00:00     57.0     59.0  \n",
       "2018-05-17 14:00:00     46.0     57.0  \n",
       "2018-05-17 15:00:00     63.0     46.0  \n",
       "2018-05-17 16:00:00     89.0     63.0  \n",
       "2018-05-17 17:00:00    104.0     89.0  \n",
       "2018-05-17 18:00:00    118.0    104.0  \n",
       "2018-05-17 19:00:00    121.0    118.0  \n",
       "2018-05-17 20:00:00     54.0    121.0  \n",
       "\n",
       "[10 rows x 506 columns]"
      ]
     },
     "execution_count": 123,
     "metadata": {},
     "output_type": "execute_result"
    }
   ],
   "source": [
    "df.head(10)"
   ]
  },
  {
   "cell_type": "markdown",
   "metadata": {},
   "source": [
    "Применим функцию make_features на подготовленный датасет. Разделим датасет (тестовая выборка 10%), попробуем разные модели:"
   ]
  },
  {
   "cell_type": "code",
   "execution_count": 124,
   "metadata": {},
   "outputs": [],
   "source": [
    "\n",
    "train_val, test = train_test_split(df, shuffle=False, test_size=0.1)\n",
    "train, valid = train_test_split(train_val, shuffle=False, test_size=0.25)\n",
    "\n",
    "train_features = train.drop('num_orders', axis = 1)\n",
    "train_target = train['num_orders']\n",
    "\n",
    "valid_features = valid.drop('num_orders', axis =1)\n",
    "valid_target = valid['num_orders']\n",
    "\n",
    "test_features = test.drop('num_orders', axis = 1)\n",
    "test_target = test['num_orders']"
   ]
  },
  {
   "cell_type": "code",
   "execution_count": 125,
   "metadata": {},
   "outputs": [
    {
     "name": "stdout",
     "output_type": "stream",
     "text": [
      "(1725, 506) (576, 506) (256, 506)\n"
     ]
    }
   ],
   "source": [
    "print(train.shape, valid.shape, test.shape)"
   ]
  },
  {
   "cell_type": "markdown",
   "metadata": {},
   "source": [
    "Проведем подбор параметров на модели light gbm:"
   ]
  },
  {
   "cell_type": "code",
   "execution_count": 40,
   "metadata": {},
   "outputs": [
    {
     "name": "stderr",
     "output_type": "stream",
     "text": [
      "/opt/conda/lib/python3.7/site-packages/sklearn/model_selection/_search.py:813: DeprecationWarning: The default of the `iid` parameter will change from True to False in version 0.22 and will be removed in 0.24. This will change numeric results when test-set sizes are unequal.\n",
      "  DeprecationWarning)\n"
     ]
    },
    {
     "name": "stdout",
     "output_type": "stream",
     "text": [
      "Best parameters is: {'max_depth': 15, 'n_estimators': 200}\n",
      "Best score is: -434.1728700130335\n",
      "CPU times: user 6min 56s, sys: 2.48 s, total: 6min 58s\n",
      "Wall time: 7min 4s\n"
     ]
    }
   ],
   "source": [
    "%%time\n",
    "estim_new = lgb.LGBMRegressor(num_leaves= 31,learning_rate=0.01)\n",
    "\n",
    "\n",
    "param_grid = {\n",
    "    'n_estimators': [10,50,100,200],\n",
    "    'max_depth': [10,15,30,40]\n",
    "   \n",
    "}\n",
    "\n",
    "cv =KFold(random_state=1, n_splits=7)\n",
    "gbm = GridSearchCV(estim_new, param_grid, cv=cv, scoring='neg_mean_squared_error')\n",
    "\n",
    "gbm.fit(train_features, train_target)\n",
    "\n",
    "print('Best parameters is:', gbm.best_params_)\n",
    "print('Best score is:', gbm.best_score_)"
   ]
  },
  {
   "cell_type": "code",
   "execution_count": 126,
   "metadata": {},
   "outputs": [
    {
     "data": {
      "text/plain": [
       "35.6303090684481"
      ]
     },
     "execution_count": 126,
     "metadata": {},
     "output_type": "execute_result"
    }
   ],
   "source": [
    "light_gbm = lgb.LGBMRegressor(num_leaves= 31, learning_rate=0.01, max_depth=15, n_estimators=200)\n",
    "light_gbm.fit(train_features, train_target)\n",
    "pred4 = light_gbm.predict(valid_features)\n",
    "rmse_light_gbm = mean_squared_error(valid_target, pred4)**0.5\n",
    "rmse_light_gbm"
   ]
  },
  {
   "cell_type": "markdown",
   "metadata": {},
   "source": [
    "И попробуем модель CatBoost:"
   ]
  },
  {
   "cell_type": "code",
   "execution_count": 115,
   "metadata": {
    "scrolled": false
   },
   "outputs": [
    {
     "name": "stdout",
     "output_type": "stream",
     "text": [
      "0:\tlearn: 34.7336287\ttotal: 39.5ms\tremaining: 7.87s\n",
      "10:\tlearn: 30.6262405\ttotal: 1.72s\tremaining: 29.6s\n",
      "20:\tlearn: 27.7144751\ttotal: 3.32s\tremaining: 28.3s\n",
      "30:\tlearn: 25.6662344\ttotal: 4.91s\tremaining: 26.8s\n",
      "40:\tlearn: 24.2409156\ttotal: 6.5s\tremaining: 25.2s\n",
      "50:\tlearn: 23.2703291\ttotal: 8.09s\tremaining: 23.6s\n",
      "60:\tlearn: 22.4649788\ttotal: 9.68s\tremaining: 22.1s\n",
      "70:\tlearn: 21.8787209\ttotal: 11.3s\tremaining: 20.5s\n",
      "80:\tlearn: 21.3663013\ttotal: 12.9s\tremaining: 18.9s\n",
      "90:\tlearn: 20.9338864\ttotal: 14.5s\tremaining: 17.3s\n",
      "100:\tlearn: 20.6485021\ttotal: 16s\tremaining: 15.6s\n",
      "110:\tlearn: 20.3148796\ttotal: 17.5s\tremaining: 14.1s\n",
      "120:\tlearn: 20.0692509\ttotal: 19.1s\tremaining: 12.5s\n",
      "130:\tlearn: 19.8514244\ttotal: 20.7s\tremaining: 10.9s\n",
      "140:\tlearn: 19.6852914\ttotal: 22.3s\tremaining: 9.34s\n",
      "150:\tlearn: 19.5010993\ttotal: 23.8s\tremaining: 7.73s\n",
      "160:\tlearn: 19.3261189\ttotal: 25.4s\tremaining: 6.15s\n",
      "170:\tlearn: 19.1750310\ttotal: 27s\tremaining: 4.58s\n",
      "180:\tlearn: 18.9947769\ttotal: 28.6s\tremaining: 3s\n",
      "190:\tlearn: 18.8497514\ttotal: 30.2s\tremaining: 1.42s\n",
      "199:\tlearn: 18.7259934\ttotal: 31.6s\tremaining: 0us\n",
      "CPU times: user 29.9 s, sys: 1.97 s, total: 31.9 s\n",
      "Wall time: 33.3 s\n"
     ]
    },
    {
     "data": {
      "text/plain": [
       "33.35865609173103"
      ]
     },
     "execution_count": 115,
     "metadata": {},
     "output_type": "execute_result"
    }
   ],
   "source": [
    "%%time\n",
    "model_cat = CatBoostRegressor(n_estimators = 200, loss_function = 'MAE', eval_metric = 'RMSE')\n",
    "model_cat.fit(train_features, train_target, verbose=10)\n",
    "predicted_valid2 = model_cat.predict(valid_features)\n",
    "rmse_cat = (mean_squared_error(valid_target, predicted_valid2))**0.5\n",
    "rmse_cat"
   ]
  },
  {
   "cell_type": "markdown",
   "metadata": {},
   "source": [
    "Лучшие параметры для light gbm max_depth=10, n_estimators=200. Применим их на модели."
   ]
  },
  {
   "cell_type": "code",
   "execution_count": 127,
   "metadata": {},
   "outputs": [
    {
     "data": {
      "text/plain": [
       "((256, 505), (256,))"
      ]
     },
     "execution_count": 127,
     "metadata": {},
     "output_type": "execute_result"
    }
   ],
   "source": [
    "test_features.shape, test_target.shape"
   ]
  },
  {
   "cell_type": "markdown",
   "metadata": {},
   "source": [
    "# 4. Тестирование"
   ]
  },
  {
   "cell_type": "code",
   "execution_count": 128,
   "metadata": {},
   "outputs": [
    {
     "data": {
      "text/plain": [
       "47.67885843026897"
      ]
     },
     "execution_count": 128,
     "metadata": {},
     "output_type": "execute_result"
    }
   ],
   "source": [
    "\n",
    "pred5 = light_gbm.predict(test_features)\n",
    "rmse_light_gbm_test = mean_squared_error(test_target, pred5)**0.5\n",
    "rmse_light_gbm_test"
   ]
  },
  {
   "cell_type": "code",
   "execution_count": 134,
   "metadata": {},
   "outputs": [
    {
     "data": {
      "text/plain": [
       "57.40681386091541"
      ]
     },
     "execution_count": 134,
     "metadata": {},
     "output_type": "execute_result"
    }
   ],
   "source": [
    "\n",
    "predicted_valid3 = model_cat.predict(test_features)\n",
    "rmse_cat_test = mean_squared_error(test_target, predicted_valid3)**0.5\n",
    "rmse_cat_test"
   ]
  },
  {
   "cell_type": "markdown",
   "metadata": {},
   "source": [
    "Проверка модели на адекватность по среднему значению: "
   ]
  },
  {
   "cell_type": "code",
   "execution_count": 129,
   "metadata": {},
   "outputs": [
    {
     "name": "stdout",
     "output_type": "stream",
     "text": [
      "Оценка RMSE по среднему значению : 82.47300701391228\n"
     ]
    }
   ],
   "source": [
    "\n",
    "predicted_mean = np.ones(test.shape[0])*train['num_orders'].mean()\n",
    "rmse_mean = mean_squared_error(test_target, predicted_mean)**0.5\n",
    "print(\"Оценка RMSE по среднему значению :\", rmse_mean)"
   ]
  },
  {
   "cell_type": "code",
   "execution_count": null,
   "metadata": {},
   "outputs": [],
   "source": [
    "Проверка модели на адекватность по последующему значению: "
   ]
  },
  {
   "cell_type": "code",
   "execution_count": 130,
   "metadata": {},
   "outputs": [
    {
     "data": {
      "text/plain": [
       "(256,)"
      ]
     },
     "execution_count": 130,
     "metadata": {},
     "output_type": "execute_result"
    }
   ],
   "source": [
    "predicted_previous = test['num_orders'].shift()\n",
    "predicted_previous.shape"
   ]
  },
  {
   "cell_type": "code",
   "execution_count": 131,
   "metadata": {},
   "outputs": [
    {
     "name": "stdout",
     "output_type": "stream",
     "text": [
      "Оценка RMSE по послед. значению: 59.850595235135295\n"
     ]
    }
   ],
   "source": [
    "predicted_previous.iloc[0] = test_target.iloc[-1]\n",
    "rmse_previous = mean_squared_error(test_target, predicted_previous)**0.5\n",
    "print(\"Оценка RMSE по послед. значению:\", rmse_previous )"
   ]
  },
  {
   "cell_type": "markdown",
   "metadata": {},
   "source": [
    "Сравним наше полученное значение rmse у модели lightGBM с мин. значением rmse при проверке моделей на среднем значении и на послед.значении( минимальное это rmse_previous со значением 58.9).\n",
    "\n",
    "Если rmse на тествой выборке меньше, значит модель адекватна."
   ]
  },
  {
   "cell_type": "code",
   "execution_count": 132,
   "metadata": {},
   "outputs": [],
   "source": [
    "min_mean_prev = min(rmse_mean, rmse_previous)"
   ]
  },
  {
   "cell_type": "code",
   "execution_count": 133,
   "metadata": {},
   "outputs": [
    {
     "name": "stdout",
     "output_type": "stream",
     "text": [
      "адекватна\n"
     ]
    }
   ],
   "source": [
    "if  min_mean_prev > rmse_light_gbm_test:\n",
    "    print('адекватна')\n",
    "else:\n",
    "    print(('неадекватна'))"
   ]
  },
  {
   "cell_type": "markdown",
   "metadata": {},
   "source": [
    "В результате лучшая модель это CatBoost, значение метрики rmse на лучшей модели на тестовой выборке не превышает указанного в задании 48. "
   ]
  }
 ],
 "metadata": {
  "kernelspec": {
   "display_name": "Python 3",
   "language": "python",
   "name": "python3"
  },
  "language_info": {
   "codemirror_mode": {
    "name": "ipython",
    "version": 3
   },
   "file_extension": ".py",
   "mimetype": "text/x-python",
   "name": "python",
   "nbconvert_exporter": "python",
   "pygments_lexer": "ipython3",
   "version": "3.7.6"
  }
 },
 "nbformat": 4,
 "nbformat_minor": 2
}

{
 "cells": [
  {
   "cell_type": "markdown",
   "metadata": {},
   "source": [
    "# Описание проекта"
   ]
  },
  {
   "cell_type": "markdown",
   "metadata": {},
   "source": [
    "В данном проекте требовалось с помощью техники *Bootstrap* проанализировать возможные прибыль и риски для нефтедобывающей компании. На основе данных о трех регионах по 10 000 месторождений в каждом, об измерении качества нефти и объема ее запасов, нужно принять решение и бурении новых скважин.\n",
    "\n",
    "Шаги для выбора локации:\n",
    "\n",
    "- В избранном регионе ищут месторождения, для каждого определяют значения признаков;\n",
    "- Строят модель и оценивают объём запасов;\n",
    "- Выбирают месторождения с самым высокими оценками значений. Количество месторождений зависит от бюджета компании и стоимости разработки одной скважины;\n",
    "- Прибыль равна суммарной прибыли отобранных месторождений."
   ]
  },
  {
   "cell_type": "markdown",
   "metadata": {},
   "source": [
    "# 1. Загрузка и подготовка данных"
   ]
  },
  {
   "cell_type": "code",
   "execution_count": 2,
   "metadata": {},
   "outputs": [],
   "source": [
    "import pandas as pd\n",
    "import numpy as np\n",
    "import seaborn as sns\n",
    "import matplotlib.pyplot as plt\n",
    "from sklearn.model_selection import train_test_split\n",
    "from sklearn.preprocessing import OrdinalEncoder, StandardScaler\n",
    "\n",
    "from sklearn.metrics import mean_squared_error\n",
    "\n",
    "from sklearn.linear_model import LinearRegression\n",
    "\n",
    "geo0 = pd.read_csv('/datasets/geo_data_0.csv')\n",
    "geo1 = pd.read_csv('/datasets/geo_data_1.csv')\n",
    "geo2 = pd.read_csv('/datasets/geo_data_2.csv')"
   ]
  },
  {
   "cell_type": "code",
   "execution_count": 3,
   "metadata": {},
   "outputs": [
    {
     "name": "stdout",
     "output_type": "stream",
     "text": [
      "<class 'pandas.core.frame.DataFrame'>\n",
      "RangeIndex: 100000 entries, 0 to 99999\n",
      "Data columns (total 5 columns):\n",
      "id         100000 non-null object\n",
      "f0         100000 non-null float64\n",
      "f1         100000 non-null float64\n",
      "f2         100000 non-null float64\n",
      "product    100000 non-null float64\n",
      "dtypes: float64(4), object(1)\n",
      "memory usage: 3.8+ MB\n",
      "None\n",
      "<class 'pandas.core.frame.DataFrame'>\n",
      "RangeIndex: 100000 entries, 0 to 99999\n",
      "Data columns (total 5 columns):\n",
      "id         100000 non-null object\n",
      "f0         100000 non-null float64\n",
      "f1         100000 non-null float64\n",
      "f2         100000 non-null float64\n",
      "product    100000 non-null float64\n",
      "dtypes: float64(4), object(1)\n",
      "memory usage: 3.8+ MB\n",
      "None\n",
      "<class 'pandas.core.frame.DataFrame'>\n",
      "RangeIndex: 100000 entries, 0 to 99999\n",
      "Data columns (total 5 columns):\n",
      "id         100000 non-null object\n",
      "f0         100000 non-null float64\n",
      "f1         100000 non-null float64\n",
      "f2         100000 non-null float64\n",
      "product    100000 non-null float64\n",
      "dtypes: float64(4), object(1)\n",
      "memory usage: 3.8+ MB\n",
      "None\n"
     ]
    }
   ],
   "source": [
    "for data in geo0, geo1, geo2:\n",
    "    info = data.info()\n",
    "    print(info)"
   ]
  },
  {
   "cell_type": "code",
   "execution_count": 4,
   "metadata": {},
   "outputs": [
    {
     "name": "stdout",
     "output_type": "stream",
     "text": [
      "      id        f0        f1        f2     product\n",
      "0  txEyH  0.705745 -0.497823  1.221170  105.280062\n",
      "1  2acmU  1.334711 -0.340164  4.365080   73.037750\n",
      "2  409Wp  1.022732  0.151990  1.419926   85.265647\n",
      "3  iJLyR -0.032172  0.139033  2.978566  168.620776\n",
      "4  Xdl7t  1.988431  0.155413  4.751769  154.036647\n",
      "      id         f0         f1        f2     product\n",
      "0  kBEdx -15.001348  -8.276000 -0.005876    3.179103\n",
      "1  62mP7  14.272088  -3.475083  0.999183   26.953261\n",
      "2  vyE1P   6.263187  -5.948386  5.001160  134.766305\n",
      "3  KcrkZ -13.081196 -11.506057  4.999415  137.945408\n",
      "4  AHL4O  12.702195  -8.147433  5.004363  134.766305\n",
      "      id        f0        f1        f2     product\n",
      "0  fwXo0 -1.146987  0.963328 -0.828965   27.758673\n",
      "1  WJtFt  0.262778  0.269839 -2.530187   56.069697\n",
      "2  ovLUW  0.194587  0.289035 -5.586433   62.871910\n",
      "3  q6cA6  2.236060 -0.553760  0.930038  114.572842\n",
      "4  WPMUX -0.515993  1.716266  5.899011  149.600746\n"
     ]
    }
   ],
   "source": [
    "for data in geo0, geo1, geo2:\n",
    "    head = data.head(5)\n",
    "    print(head)"
   ]
  },
  {
   "cell_type": "code",
   "execution_count": 5,
   "metadata": {},
   "outputs": [
    {
     "name": "stdout",
     "output_type": "stream",
     "text": [
      "10\n",
      "4\n",
      "4\n"
     ]
    }
   ],
   "source": [
    "for data in geo0, geo1, geo2:\n",
    "    duplic = data['id'].duplicated().sum()\n",
    "    print(duplic)"
   ]
  },
  {
   "cell_type": "code",
   "execution_count": 6,
   "metadata": {},
   "outputs": [
    {
     "name": "stdout",
     "output_type": "stream",
     "text": [
      "fiKDv    2\n",
      "74z30    2\n",
      "bxg6G    2\n",
      "HZww2    2\n",
      "TtcGQ    2\n",
      "        ..\n",
      "auJQa    1\n",
      "huQZX    1\n",
      "ekvZk    1\n",
      "P7qqt    1\n",
      "OKZFU    1\n",
      "Name: id, Length: 99990, dtype: int64\n",
      "LHZR0    2\n",
      "wt4Uk    2\n",
      "5ltQ6    2\n",
      "bfPNe    2\n",
      "lEMOy    1\n",
      "        ..\n",
      "5j9x1    1\n",
      "txYMo    1\n",
      "8LC9c    1\n",
      "VpfgX    1\n",
      "Le7BU    1\n",
      "Name: id, Length: 99996, dtype: int64\n",
      "Vcm5J    2\n",
      "KUPhW    2\n",
      "xCHr8    2\n",
      "VF7Jo    2\n",
      "NXVa3    1\n",
      "        ..\n",
      "fhI1u    1\n",
      "F599u    1\n",
      "HbnRb    1\n",
      "jHrKU    1\n",
      "Ssaqr    1\n",
      "Name: id, Length: 99996, dtype: int64\n"
     ]
    }
   ],
   "source": [
    "for data in geo0, geo1, geo2:\n",
    "    val = data['id'].value_counts()\n",
    "    print(val)"
   ]
  },
  {
   "cell_type": "code",
   "execution_count": 7,
   "metadata": {},
   "outputs": [
    {
     "name": "stdout",
     "output_type": "stream",
     "text": [
      "0        txEyH\n",
      "1        2acmU\n",
      "2        409Wp\n",
      "3        iJLyR\n",
      "4        Xdl7t\n",
      "         ...  \n",
      "99995    DLsed\n",
      "99996    QKivN\n",
      "99997    3rnvd\n",
      "99998    7kl59\n",
      "99999    1CWhH\n",
      "Name: id, Length: 99990, dtype: object\n",
      "0        kBEdx\n",
      "1        62mP7\n",
      "2        vyE1P\n",
      "3        KcrkZ\n",
      "4        AHL4O\n",
      "         ...  \n",
      "99995    QywKC\n",
      "99996    ptvty\n",
      "99997    09gWa\n",
      "99998    rqwUm\n",
      "99999    relB0\n",
      "Name: id, Length: 99996, dtype: object\n",
      "0        fwXo0\n",
      "1        WJtFt\n",
      "2        ovLUW\n",
      "3        q6cA6\n",
      "4        WPMUX\n",
      "         ...  \n",
      "99995    4GxBu\n",
      "99996    YKFjq\n",
      "99997    tKPY3\n",
      "99998    nmxp2\n",
      "99999    V9kWn\n",
      "Name: id, Length: 99996, dtype: object\n"
     ]
    }
   ],
   "source": [
    "for data in geo0, geo1, geo2:\n",
    "    drop = data['id'].drop_duplicates()\n",
    "    print(drop)"
   ]
  },
  {
   "cell_type": "markdown",
   "metadata": {},
   "source": [
    "В столбце id обнаружились одинаковые названия месторождений. Решаем удалить их, так как их довольно мало дял того, чтобы они играли сущесьвенную роль в работе модели."
   ]
  },
  {
   "cell_type": "markdown",
   "metadata": {},
   "source": [
    "# 2. Обучение и проверка модели"
   ]
  },
  {
   "cell_type": "markdown",
   "metadata": {},
   "source": [
    "Для начала нужно разделить исходные данные на 2 выборки: обучающую и тестовую в соотношении 75 и 25%. И затем обучить можедь линейной регрессии на обучающей выборке и выполнить предсказания на валидационных данных по очереди для каждого региона."
   ]
  },
  {
   "cell_type": "markdown",
   "metadata": {},
   "source": [
    "Рассмотрим регион geo0:"
   ]
  },
  {
   "cell_type": "code",
   "execution_count": 8,
   "metadata": {},
   "outputs": [
    {
     "name": "stdout",
     "output_type": "stream",
     "text": [
      "(75000, 3)\n",
      "(25000, 3)\n"
     ]
    }
   ],
   "source": [
    "train0, valid0 = train_test_split(geo0, test_size=0.25, random_state=12345)\n",
    "features_train0 = train0.drop(['product', 'id'], axis=1)\n",
    "target_train0 = train0['product']\n",
    "\n",
    "features_valid0 = valid0.drop(['product', 'id'], axis=1)\n",
    "target_valid0 = valid0['product'] \n",
    "\n",
    "print(features_train0.shape)\n",
    "print(features_valid0.shape)"
   ]
  },
  {
   "cell_type": "code",
   "execution_count": 9,
   "metadata": {},
   "outputs": [
    {
     "name": "stdout",
     "output_type": "stream",
     "text": [
      "Linear Regression\n",
      "MSE = 1412.2129364399243\n",
      "RMSE = 37.5794217150813\n",
      "Mean = 92.59256778438038\n"
     ]
    }
   ],
   "source": [
    "model = LinearRegression()\n",
    "model.fit(features_train0, target_train0)\n",
    "predicted_valid0 = model.predict(features_valid0)\n",
    "mse = mean_squared_error(target_valid0, predicted_valid0)\n",
    "\n",
    "\n",
    "print(\"Linear Regression\")\n",
    "print(\"MSE =\", mse)\n",
    "print(\"RMSE =\", mse ** 0.5)\n",
    "print(\"Mean =\", predicted_valid0.mean())\n"
   ]
  },
  {
   "cell_type": "markdown",
   "metadata": {},
   "source": [
    "Рассмотрим регион geo1:"
   ]
  },
  {
   "cell_type": "code",
   "execution_count": 10,
   "metadata": {},
   "outputs": [
    {
     "name": "stdout",
     "output_type": "stream",
     "text": [
      "(75000, 3)\n",
      "(25000, 3)\n"
     ]
    }
   ],
   "source": [
    "train1, valid1 = train_test_split(geo1, test_size=0.25, random_state=12345)\n",
    "features_train1 = train1.drop(['product', 'id'], axis=1)\n",
    "target_train1 = train1['product']\n",
    "\n",
    "features_valid1 = valid1.drop(['product', 'id'], axis=1)\n",
    "target_valid1 = valid1['product'] \n",
    "\n",
    "print(features_train1.shape)\n",
    "print(features_valid1.shape)"
   ]
  },
  {
   "cell_type": "code",
   "execution_count": 11,
   "metadata": {},
   "outputs": [
    {
     "name": "stdout",
     "output_type": "stream",
     "text": [
      "Linear Regression\n",
      "MSE = 0.7976263360391139\n",
      "RMSE = 0.893099286775616\n",
      "Mean = 68.728546895446\n"
     ]
    }
   ],
   "source": [
    "model = LinearRegression()\n",
    "model.fit(features_train1, target_train1)\n",
    "predicted_valid1 = model.predict(features_valid1)\n",
    "mse = mean_squared_error(target_valid1, predicted_valid1)\n",
    "\n",
    "\n",
    "print(\"Linear Regression\")\n",
    "print(\"MSE =\", mse)\n",
    "print(\"RMSE =\", mse ** 0.5)\n",
    "print(\"Mean =\", predicted_valid1.mean())\n"
   ]
  },
  {
   "cell_type": "markdown",
   "metadata": {},
   "source": [
    "Рассмотрим регион geo2:"
   ]
  },
  {
   "cell_type": "code",
   "execution_count": 12,
   "metadata": {},
   "outputs": [
    {
     "name": "stdout",
     "output_type": "stream",
     "text": [
      "(75000, 3)\n",
      "(25000, 3)\n"
     ]
    }
   ],
   "source": [
    "train2, valid2 = train_test_split(geo2, test_size=0.25, random_state=12345)\n",
    "features_train2 = train2.drop(['product', 'id'], axis=1)\n",
    "target_train2 = train2['product']\n",
    "\n",
    "features_valid2 = valid2.drop(['product', 'id'], axis=1)\n",
    "target_valid2 = valid2['product'] \n",
    "\n",
    "print(features_train2.shape)\n",
    "print(features_valid2.shape)"
   ]
  },
  {
   "cell_type": "code",
   "execution_count": 13,
   "metadata": {},
   "outputs": [
    {
     "name": "stdout",
     "output_type": "stream",
     "text": [
      "Linear Regression\n",
      "MSE = 1602.3775813236196\n",
      "RMSE = 40.02970873393434\n",
      "Mean = 94.96504596800489\n"
     ]
    }
   ],
   "source": [
    "model = LinearRegression()\n",
    "model.fit(features_train2, target_train2)\n",
    "predicted_valid2 = model.predict(features_valid2)\n",
    "mse = mean_squared_error(target_valid2, predicted_valid2)\n",
    "\n",
    "\n",
    "print(\"Linear Regression\")\n",
    "print(\"MSE =\", mse)\n",
    "print(\"RMSE =\", mse ** 0.5)\n",
    "print(\"Mean =\", predicted_valid2.mean())"
   ]
  },
  {
   "cell_type": "markdown",
   "metadata": {},
   "source": [
    "Данные поделили верно, видно из соотношения датасетов."
   ]
  },
  {
   "cell_type": "markdown",
   "metadata": {},
   "source": [
    "В результате видим, что самые большие средние запасы сырья находятся в регионе 3. При этом значение rmse довольно высокое.\n",
    "Большое значение rmse региона говорит о большом разбросе ошибок, эти значения самые высокие для geo 0 и 2. \n"
   ]
  },
  {
   "cell_type": "markdown",
   "metadata": {},
   "source": [
    "# 3. Подготовка к расчёту прибыли"
   ]
  },
  {
   "cell_type": "markdown",
   "metadata": {},
   "source": [
    "Запишем условия задачи в глобальные переменные.\n",
    "\n",
    "all_points - сколько всего месторождений \n",
    "\n",
    "total_budget - бюджет всего региона\n",
    "\n",
    "budget_of_one - бюджет одного месторождения\n",
    "\n",
    "barell_profit -  цена бареля нефти\n",
    "\n",
    "cost_of_one - доход с каждой единицы продукта \n",
    "\n",
    "risk_treshold - минимальная вероятность убытков"
   ]
  },
  {
   "cell_type": "code",
   "execution_count": 14,
   "metadata": {},
   "outputs": [
    {
     "data": {
      "text/plain": [
       "111.11111111111111"
      ]
     },
     "execution_count": 14,
     "metadata": {},
     "output_type": "execute_result"
    }
   ],
   "source": [
    "all_points = 500\n",
    "bootstrap_samples = 1000\n",
    "total_budget = 10000000000\n",
    "budget_of_one = 50000000\n",
    "cost_of_one = 450000\n",
    "barell_profit = 450\n",
    "risk_treshold = 0.025\n",
    "\n",
    "#посчитаем сколько баррелей нефти нужно разработать с одного месторождения, чтобы окупить вложения в разработку месторождения\n",
    "# при условии, что обрабатываем 200 скважин\n",
    "total_barell = budget_of_one / (barell_profit * 1000)\n",
    "total_barell\n",
    "\n"
   ]
  },
  {
   "cell_type": "code",
   "execution_count": 15,
   "metadata": {},
   "outputs": [
    {
     "name": "stdout",
     "output_type": "stream",
     "text": [
      "Средний объём сырья в 200 скважинах в регионе geo0: 4629628389.219019\n",
      "Средний объём сырья в 200 скважинах в регионе geo1: 3436427344.7723002\n",
      "Средний объём сырья в 200 скважинах в регионе geo2: 4748252298.400245\n"
     ]
    }
   ],
   "source": [
    "print('Средний объём сырья в 200 скважинах в регионе geo0:',predicted_valid0.mean()* budget_of_one)\n",
    "print('Средний объём сырья в 200 скважинах в регионе geo1:',predicted_valid1.mean()* budget_of_one)\n",
    "print('Средний объём сырья в 200 скважинах в регионе geo2:',predicted_valid2.mean()* budget_of_one)"
   ]
  },
  {
   "cell_type": "markdown",
   "metadata": {},
   "source": [
    "Нужно 111 тыc баррелей на разработку одной сквжины, чтобы окупить все. Получается, что все регионы убыточны.\n",
    "\n"
   ]
  },
  {
   "cell_type": "markdown",
   "metadata": {},
   "source": [
    "# 4. Расчёт прибыли и рисков "
   ]
  },
  {
   "cell_type": "markdown",
   "metadata": {},
   "source": [
    "Напишем функцию для расчета прибыли:"
   ]
  },
  {
   "cell_type": "code",
   "execution_count": 17,
   "metadata": {},
   "outputs": [],
   "source": [
    "probabilities = predicted_valid2\n",
    "target = target_valid2\n",
    "\n",
    "def revenue(target, probabilities, count):\n",
    "    top = probabilities.sort_values(ascending=False).head(count)\n",
    "    total_profit = (target.loc[top.index][:count] * 1000 * barell_profit).sum()\n",
    "    all_price = cost_of_one * count\n",
    "    return total_profit - all_price#all_price\n"
   ]
  },
  {
   "cell_type": "markdown",
   "metadata": {},
   "source": [
    "1. у меня немного дркгоая функция \n",
    "2. сначала она сортирует те самые 200 значений (или любое другое кол-во, котрое ты ей впишешь)значения, умножаем на 1000 и на цену бареля и суммируем \n",
    "3. потом находим значение дохода для скважин: умножаешь цену единцу продукта(450000) на кол-во отобранных скважин(200шт)\n",
    "4. и потом ищещь весь профит :  значение из пункта 2 минус стоисмость дохода со скважин(пункт 3)"
   ]
  },
  {
   "cell_type": "markdown",
   "metadata": {},
   "source": [
    "Бутстреп для каждого региона по очереди:\n",
    "Вычислим среднюю выручку по регионам и 95% доверительный интервал:"
   ]
  },
  {
   "cell_type": "code",
   "execution_count": 18,
   "metadata": {},
   "outputs": [
    {
     "name": "stdout",
     "output_type": "stream",
     "text": [
      "Geo0\n",
      "Средняя прибыль: 10335938526.910593\n",
      "95%-ый доверительный интервал: 9878196885.653885 : 10791341454.360281\n",
      "Риск убытков: (0.0, '%')\n"
     ]
    }
   ],
   "source": [
    "state = np.random.RandomState(12345) \n",
    "\n",
    "values0 = []\n",
    "target_valid0 = target_valid0.reset_index(drop=True)\n",
    "for i in range(1000):\n",
    "    target_subsample0 = target_valid0.sample(n=500, replace=True, random_state=state)\n",
    "    valid_subsample0 = pd.Series(predicted_valid0)[target_subsample0.index]\n",
    "    values0.append(revenue(target_subsample0, valid_subsample0, 200))\n",
    "\n",
    "values0 = pd.Series(values0)\n",
    "lower0 = values0.quantile(0.05)\n",
    "\n",
    "upper0 = values0.quantile(0.95)\n",
    "mean0 = values0.mean()\n",
    "print(\"Geo0\")\n",
    "print(\"Средняя прибыль:\", mean0)\n",
    "print(\"95%-ый доверительный интервал:\", lower0, ':', upper0)\n",
    "\n",
    "risk0 = ((values0 < 0).mean()* 100, \"%\")\n",
    "print(\"Риск убытков:\", risk0)"
   ]
  },
  {
   "cell_type": "code",
   "execution_count": 19,
   "metadata": {},
   "outputs": [
    {
     "name": "stdout",
     "output_type": "stream",
     "text": [
      "Geo1\n",
      "Средняя прибыль: 10428259493.697329\n",
      "95%-ый доверительный интервал: 10096591074.593811 : 10798640591.354553\n",
      "Риск убытков: (0.0, '%')\n"
     ]
    }
   ],
   "source": [
    "values1 = []\n",
    "target_valid1 = target_valid1.reset_index(drop=True)\n",
    "for i in range(1000):\n",
    "    target_subsample1 = target_valid1.sample(n=500, replace=True, random_state=state)\n",
    "    valid_subsample1 = pd.Series(predicted_valid1)[target_subsample1.index]\n",
    "    values1.append(revenue(target_subsample1, valid_subsample1, 200))\n",
    "\n",
    "values1 = pd.Series(values1)\n",
    "mean1 = values1.mean()\n",
    "\n",
    "lower1 = values1.quantile(0.05)\n",
    "upper1 = values1.quantile(0.95)\n",
    "mean1 = values1.mean()\n",
    "print(\"Geo1\")\n",
    "print(\"Средняя прибыль:\", mean1)\n",
    "print(\"95%-ый доверительный интервал:\", lower1, ':', upper1)\n",
    "\n",
    "risk1 = ((values1 < 0).mean()* 100, \"%\")\n",
    "print(\"Риск убытков:\", risk1)"
   ]
  },
  {
   "cell_type": "code",
   "execution_count": 46,
   "metadata": {},
   "outputs": [
    {
     "name": "stdout",
     "output_type": "stream",
     "text": [
      "Geo2\n",
      "Средняя прибыль: 424212488.0991597\n",
      "95%-ый доверительный интервал: 1291918.6677036325 : 860660712.8075709\n",
      "Риск убытков: (0.0, '%')\n",
      "\n",
      "Риск убытков: (4.9, '%')\n"
     ]
    }
   ],
   "source": [
    "values2 = []\n",
    "target_valid2 = target_valid2.reset_index(drop=True)\n",
    "for i in range(1000):\n",
    "    target_subsample2 = target_valid2.sample(n=500, replace=True, random_state=state)\n",
    "    valid_subsample2 = pd.Series(predicted_valid2)[target_subsample2.index]\n",
    "    values2.append(revenue(target_subsample2, valid_subsample2, 200))\n",
    "\n",
    "values2 = pd.Series(values2)\n",
    "mean2 = values2.mean()\n",
    "\n",
    "lower2 = values2.quantile(0.05)\n",
    "upper2 = values2.quantile(0.95)\n",
    "mean2 = values2.mean()\n",
    "print(\"Geo2\")\n",
    "print(\"Средняя прибыль:\", mean2)\n",
    "print(\"95%-ый доверительный интервал:\", lower2, ':', upper2)\n",
    "\n",
    "risk2 = ((values2 > 10000000000).mean()* 100, \"%\")\n",
    "print(\"Риск убытков:\", risk2)\n",
    "print()\n",
    "risk3 = ((values2 < 0).mean()* 100, \"%\")\n",
    "print(\"Риск убытков:\", risk3)"
   ]
  },
  {
   "cell_type": "markdown",
   "metadata": {},
   "source": [
    "Наибольшая средняя выручка у нас в geo2, но с вероятностью 95% мы получим чуть-чуть меньше прибыли. Похожая ситуация и с geo0. D geo1 разница между средней выручкой и 5-м квантилем  меньше, чем у остальных регионов. Похое модель тут и лучше. . Все три региона окупаются, но нужно оценить убытки."
   ]
  },
  {
   "cell_type": "markdown",
   "metadata": {},
   "source": [
    "Оценим убыточнсть наших регионов в процентах:\n",
    "\n",
    "Для этого создадим таблицу с доходностью из списка из бутстрепа, потом отсортируем те, которые приносят менее 10 млрд рублей, ибо те, что меньше, просто окупаются и все и посчитаем их кол-во. Затем вычитаем их кол-во из общего кол-ва и делим на общее и выражаем в процентах. Для всех трех регионов выполняем это все."
   ]
  },
  {
   "cell_type": "code",
   "execution_count": 181,
   "metadata": {},
   "outputs": [
    {
     "data": {
      "text/html": [
       "<div>\n",
       "<style scoped>\n",
       "    .dataframe tbody tr th:only-of-type {\n",
       "        vertical-align: middle;\n",
       "    }\n",
       "\n",
       "    .dataframe tbody tr th {\n",
       "        vertical-align: top;\n",
       "    }\n",
       "\n",
       "    .dataframe thead th {\n",
       "        text-align: right;\n",
       "    }\n",
       "</style>\n",
       "<table border=\"1\" class=\"dataframe\">\n",
       "  <thead>\n",
       "    <tr style=\"text-align: right;\">\n",
       "      <th></th>\n",
       "      <th>revenue0</th>\n",
       "    </tr>\n",
       "  </thead>\n",
       "  <tbody>\n",
       "    <tr>\n",
       "      <td>0</td>\n",
       "      <td>1.049509e+10</td>\n",
       "    </tr>\n",
       "    <tr>\n",
       "      <td>1</td>\n",
       "      <td>1.044639e+10</td>\n",
       "    </tr>\n",
       "    <tr>\n",
       "      <td>2</td>\n",
       "      <td>1.012108e+10</td>\n",
       "    </tr>\n",
       "    <tr>\n",
       "      <td>3</td>\n",
       "      <td>1.017528e+10</td>\n",
       "    </tr>\n",
       "    <tr>\n",
       "      <td>4</td>\n",
       "      <td>1.018199e+10</td>\n",
       "    </tr>\n",
       "    <tr>\n",
       "      <td>...</td>\n",
       "      <td>...</td>\n",
       "    </tr>\n",
       "    <tr>\n",
       "      <td>995</td>\n",
       "      <td>1.038410e+10</td>\n",
       "    </tr>\n",
       "    <tr>\n",
       "      <td>996</td>\n",
       "      <td>1.076600e+10</td>\n",
       "    </tr>\n",
       "    <tr>\n",
       "      <td>997</td>\n",
       "      <td>1.069599e+10</td>\n",
       "    </tr>\n",
       "    <tr>\n",
       "      <td>998</td>\n",
       "      <td>1.026422e+10</td>\n",
       "    </tr>\n",
       "    <tr>\n",
       "      <td>999</td>\n",
       "      <td>1.010882e+10</td>\n",
       "    </tr>\n",
       "  </tbody>\n",
       "</table>\n",
       "<p>1000 rows × 1 columns</p>\n",
       "</div>"
      ],
      "text/plain": [
       "         revenue0\n",
       "0    1.049509e+10\n",
       "1    1.044639e+10\n",
       "2    1.012108e+10\n",
       "3    1.017528e+10\n",
       "4    1.018199e+10\n",
       "..            ...\n",
       "995  1.038410e+10\n",
       "996  1.076600e+10\n",
       "997  1.069599e+10\n",
       "998  1.026422e+10\n",
       "999  1.010882e+10\n",
       "\n",
       "[1000 rows x 1 columns]"
      ]
     },
     "execution_count": 181,
     "metadata": {},
     "output_type": "execute_result"
    }
   ],
   "source": [
    "values0pd = pd.DataFrame(values0)\n",
    "values0pd.columns = ['revenue0']\n",
    "values0pd"
   ]
  },
  {
   "cell_type": "code",
   "execution_count": 184,
   "metadata": {},
   "outputs": [
    {
     "data": {
      "text/plain": [
       "revenue0    11.0\n",
       "dtype: float64"
      ]
     },
     "execution_count": 184,
     "metadata": {},
     "output_type": "execute_result"
    }
   ],
   "source": [
    "count_0 = values0pd.query('revenue0 > 10e+09').count()\n",
    "percent_loss0 = ((1000-count_0) / 1000) * 100\n",
    "percent_loss0\n"
   ]
  },
  {
   "cell_type": "code",
   "execution_count": 167,
   "metadata": {},
   "outputs": [
    {
     "data": {
      "text/html": [
       "<div>\n",
       "<style scoped>\n",
       "    .dataframe tbody tr th:only-of-type {\n",
       "        vertical-align: middle;\n",
       "    }\n",
       "\n",
       "    .dataframe tbody tr th {\n",
       "        vertical-align: top;\n",
       "    }\n",
       "\n",
       "    .dataframe thead th {\n",
       "        text-align: right;\n",
       "    }\n",
       "</style>\n",
       "<table border=\"1\" class=\"dataframe\">\n",
       "  <thead>\n",
       "    <tr style=\"text-align: right;\">\n",
       "      <th></th>\n",
       "      <th>revenue1</th>\n",
       "    </tr>\n",
       "  </thead>\n",
       "  <tbody>\n",
       "    <tr>\n",
       "      <td>0</td>\n",
       "      <td>1.030210e+10</td>\n",
       "    </tr>\n",
       "    <tr>\n",
       "      <td>1</td>\n",
       "      <td>1.003812e+10</td>\n",
       "    </tr>\n",
       "    <tr>\n",
       "      <td>2</td>\n",
       "      <td>1.003955e+10</td>\n",
       "    </tr>\n",
       "    <tr>\n",
       "      <td>3</td>\n",
       "      <td>1.042059e+10</td>\n",
       "    </tr>\n",
       "    <tr>\n",
       "      <td>4</td>\n",
       "      <td>1.046121e+10</td>\n",
       "    </tr>\n",
       "    <tr>\n",
       "      <td>...</td>\n",
       "      <td>...</td>\n",
       "    </tr>\n",
       "    <tr>\n",
       "      <td>995</td>\n",
       "      <td>1.049050e+10</td>\n",
       "    </tr>\n",
       "    <tr>\n",
       "      <td>996</td>\n",
       "      <td>1.043975e+10</td>\n",
       "    </tr>\n",
       "    <tr>\n",
       "      <td>997</td>\n",
       "      <td>1.023219e+10</td>\n",
       "    </tr>\n",
       "    <tr>\n",
       "      <td>998</td>\n",
       "      <td>1.097771e+10</td>\n",
       "    </tr>\n",
       "    <tr>\n",
       "      <td>999</td>\n",
       "      <td>1.015587e+10</td>\n",
       "    </tr>\n",
       "  </tbody>\n",
       "</table>\n",
       "<p>1000 rows × 1 columns</p>\n",
       "</div>"
      ],
      "text/plain": [
       "         revenue1\n",
       "0    1.030210e+10\n",
       "1    1.003812e+10\n",
       "2    1.003955e+10\n",
       "3    1.042059e+10\n",
       "4    1.046121e+10\n",
       "..            ...\n",
       "995  1.049050e+10\n",
       "996  1.043975e+10\n",
       "997  1.023219e+10\n",
       "998  1.097771e+10\n",
       "999  1.015587e+10\n",
       "\n",
       "[1000 rows x 1 columns]"
      ]
     },
     "execution_count": 167,
     "metadata": {},
     "output_type": "execute_result"
    }
   ],
   "source": [
    "values1pd = pd.DataFrame(values1)\n",
    "values1pd.columns = ['revenue1']\n",
    "values1pd"
   ]
  },
  {
   "cell_type": "code",
   "execution_count": 185,
   "metadata": {},
   "outputs": [
    {
     "data": {
      "text/plain": [
       "revenue1    1.7\n",
       "dtype: float64"
      ]
     },
     "execution_count": 185,
     "metadata": {},
     "output_type": "execute_result"
    }
   ],
   "source": [
    "count_1 = values1pd.query('revenue1 > 10e+09').count()\n",
    "percent_loss01 = ((1000-count_1) / 1000) * 100\n",
    "percent_loss01\n"
   ]
  },
  {
   "cell_type": "code",
   "execution_count": 169,
   "metadata": {},
   "outputs": [
    {
     "data": {
      "text/html": [
       "<div>\n",
       "<style scoped>\n",
       "    .dataframe tbody tr th:only-of-type {\n",
       "        vertical-align: middle;\n",
       "    }\n",
       "\n",
       "    .dataframe tbody tr th {\n",
       "        vertical-align: top;\n",
       "    }\n",
       "\n",
       "    .dataframe thead th {\n",
       "        text-align: right;\n",
       "    }\n",
       "</style>\n",
       "<table border=\"1\" class=\"dataframe\">\n",
       "  <thead>\n",
       "    <tr style=\"text-align: right;\">\n",
       "      <th></th>\n",
       "      <th>revenue2</th>\n",
       "    </tr>\n",
       "  </thead>\n",
       "  <tbody>\n",
       "    <tr>\n",
       "      <td>0</td>\n",
       "      <td>1.065534e+10</td>\n",
       "    </tr>\n",
       "    <tr>\n",
       "      <td>1</td>\n",
       "      <td>1.048367e+10</td>\n",
       "    </tr>\n",
       "    <tr>\n",
       "      <td>2</td>\n",
       "      <td>1.015293e+10</td>\n",
       "    </tr>\n",
       "    <tr>\n",
       "      <td>3</td>\n",
       "      <td>1.032539e+10</td>\n",
       "    </tr>\n",
       "    <tr>\n",
       "      <td>4</td>\n",
       "      <td>1.045596e+10</td>\n",
       "    </tr>\n",
       "    <tr>\n",
       "      <td>...</td>\n",
       "      <td>...</td>\n",
       "    </tr>\n",
       "    <tr>\n",
       "      <td>995</td>\n",
       "      <td>1.033749e+10</td>\n",
       "    </tr>\n",
       "    <tr>\n",
       "      <td>996</td>\n",
       "      <td>1.008146e+10</td>\n",
       "    </tr>\n",
       "    <tr>\n",
       "      <td>997</td>\n",
       "      <td>1.024362e+10</td>\n",
       "    </tr>\n",
       "    <tr>\n",
       "      <td>998</td>\n",
       "      <td>1.067518e+10</td>\n",
       "    </tr>\n",
       "    <tr>\n",
       "      <td>999</td>\n",
       "      <td>9.921046e+09</td>\n",
       "    </tr>\n",
       "  </tbody>\n",
       "</table>\n",
       "<p>1000 rows × 1 columns</p>\n",
       "</div>"
      ],
      "text/plain": [
       "         revenue2\n",
       "0    1.065534e+10\n",
       "1    1.048367e+10\n",
       "2    1.015293e+10\n",
       "3    1.032539e+10\n",
       "4    1.045596e+10\n",
       "..            ...\n",
       "995  1.033749e+10\n",
       "996  1.008146e+10\n",
       "997  1.024362e+10\n",
       "998  1.067518e+10\n",
       "999  9.921046e+09\n",
       "\n",
       "[1000 rows x 1 columns]"
      ]
     },
     "execution_count": 169,
     "metadata": {},
     "output_type": "execute_result"
    }
   ],
   "source": [
    "values2pd = pd.DataFrame(values2)\n",
    "values2pd.columns = ['revenue2']\n",
    "values2pd"
   ]
  },
  {
   "cell_type": "code",
   "execution_count": 170,
   "metadata": {},
   "outputs": [
    {
     "data": {
      "text/plain": [
       "revenue2    11.6\n",
       "dtype: float64"
      ]
     },
     "execution_count": 170,
     "metadata": {},
     "output_type": "execute_result"
    }
   ],
   "source": [
    "count_2 = values2pd.query('revenue2 > 10e+09').count()\n",
    "percent_loss02 = ((1000-count_2) / 1000) * 100\n",
    "percent_loss02"
   ]
  },
  {
   "cell_type": "markdown",
   "metadata": {},
   "source": [
    "В итоге регион geo1 получился самым безубыточным, процент убыточности 1.7, это менее порога в задании в 2.5, его и возьмем в разработку!"
   ]
  },
  {
   "cell_type": "markdown",
   "metadata": {},
   "source": [
    "В данном исследовании было дано 3 датасета с данными о трех регионах с месторождениями нефти. Мы провели предварительный анализ исходных данных, провели обработку, затем разделили датасет на 2 выборки, обучающую и валидационную 75 и 25 %. затем обучили модель линейной регресии на обуч-их данных и сделали предсказания на валид-х. Далее вычислили для каждого реиона среднюю выручку и 95% доверительный интервал. В результате выяснили, что самая высокая средняя выручка у реиона geo1. На последнем этапе посчитали процент убыточности каждого региона по отдельности, выяснили , что регион geo1 является наименеем убыточным, там процент убыточности 0.7, при условии задачи не более 2.5%. В итоге выбираем для разработки регион geo1"
   ]
  }
 ],
 "metadata": {
  "kernelspec": {
   "display_name": "Python 3",
   "language": "python",
   "name": "python3"
  },
  "language_info": {
   "codemirror_mode": {
    "name": "ipython",
    "version": 3
   },
   "file_extension": ".py",
   "mimetype": "text/x-python",
   "name": "python",
   "nbconvert_exporter": "python",
   "pygments_lexer": "ipython3",
   "version": "3.7.6"
  }
 },
 "nbformat": 4,
 "nbformat_minor": 2
}
